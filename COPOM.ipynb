{
 "cells": [
  {
   "cell_type": "markdown",
   "metadata": {},
   "source": [
    "# COPOM Meetings - Scraping, plotting, analysis"
   ]
  },
  {
   "cell_type": "markdown",
   "metadata": {},
   "source": [
    "### Marcos Costa Santos Carreira - Jun 2017"
   ]
  },
  {
   "cell_type": "markdown",
   "metadata": {},
   "source": [
    "## Importing Packages and setup"
   ]
  },
  {
   "cell_type": "code",
   "execution_count": 1,
   "metadata": {
    "collapsed": true
   },
   "outputs": [],
   "source": [
    "%matplotlib inline"
   ]
  },
  {
   "cell_type": "code",
   "execution_count": 2,
   "metadata": {
    "collapsed": true
   },
   "outputs": [],
   "source": [
    "import numpy as np\n",
    "import pandas as pd\n",
    "import matplotlib.pyplot as plt\n",
    "\n",
    "import requests\n",
    "import bs4\n",
    "\n",
    "import re\n",
    "\n",
    "import docx"
   ]
  },
  {
   "cell_type": "markdown",
   "metadata": {},
   "source": [
    "## Get COPOM page (in English)"
   ]
  },
  {
   "cell_type": "code",
   "execution_count": 3,
   "metadata": {},
   "outputs": [],
   "source": [
    "page = requests.get('http://www.bcb.gov.br/?INTEREST')\n",
    "soup = bs4.BeautifulSoup(page.text, \"lxml\")\n",
    "tabela = soup.find('table')"
   ]
  },
  {
   "cell_type": "markdown",
   "metadata": {},
   "source": [
    "## Auxiliary functions"
   ]
  },
  {
   "cell_type": "code",
   "execution_count": 4,
   "metadata": {
    "collapsed": true
   },
   "outputs": [],
   "source": [
    "def mstrip(s):\n",
    "    if (s == None or s.strip() == u''):\n",
    "        return np.nan\n",
    "    else:\n",
    "        return s.strip()"
   ]
  },
  {
   "cell_type": "code",
   "execution_count": 5,
   "metadata": {
    "collapsed": true
   },
   "outputs": [],
   "source": [
    "def rton(row):\n",
    "    return [int(row[0]), pd.to_datetime(row[1]), row[2], row[3],\n",
    "            float(row[4]), float(row[5]), float(row[6]), float(row[7])]"
   ]
  },
  {
   "cell_type": "markdown",
   "metadata": {},
   "source": [
    "## Create table"
   ]
  },
  {
   "cell_type": "markdown",
   "metadata": {},
   "source": [
    "After tinkering and searching for help to extract information from the poor choice of format on the table:"
   ]
  },
  {
   "cell_type": "code",
   "execution_count": 6,
   "metadata": {
    "collapsed": true
   },
   "outputs": [],
   "source": [
    "COPOMt = []\n",
    "#tabela.findAll(\"th\") - This was useful but i forgot why\n",
    "#The first 3 rows are the header - let's get the data only\n",
    "#We will add the header later\n",
    "for row in tabela.findAll(\"tr\")[3:]:\n",
    "    cells = row.findAll(\"td\")\n",
    "    arow = row.findAll(\"td\")[0].a.contents\n",
    "    if arow==[]:\n",
    "        arow=np.nan\n",
    "    else:\n",
    "        arow=arow[0]\n",
    "    trow = [mstrip(cell.find(text=True)) for cell in cells]\n",
    "    trow.insert(1, arow)\n",
    "    trow[2] = pd.to_datetime(trow[2])\n",
    "    dtl = trow[4].partition(\" - \")\n",
    "    trow[4] = pd.to_datetime(dtl[0])\n",
    "    trow.insert(5, pd.to_datetime(dtl[2]))\n",
    "    trow[6] = float(trow[6])\n",
    "    trow[7] = float(trow[7])\n",
    "    trow[8] = float(trow[8])\n",
    "    trow[9] = float(trow[9])\n",
    "    COPOMt = COPOMt + [trow]"
   ]
  },
  {
   "cell_type": "markdown",
   "metadata": {},
   "source": [
    "COPOMt is now a list of lists; we will create a Data Frame with the appropriate column names"
   ]
  },
  {
   "cell_type": "code",
   "execution_count": 7,
   "metadata": {
    "collapsed": true
   },
   "outputs": [],
   "source": [
    "coldfC = ['Meeting', 'Ex', 'Date', 'Bias', 'Start', 'End',\n",
    "          'SETA', 'TBAN', 'SELICef', 'SELICpy']\n",
    "dfCOPOM = pd.DataFrame(COPOMt, columns=coldfC)"
   ]
  },
  {
   "cell_type": "code",
   "execution_count": 8,
   "metadata": {},
   "outputs": [
    {
     "data": {
      "text/html": [
       "<div>\n",
       "<style>\n",
       "    .dataframe thead tr:only-child th {\n",
       "        text-align: right;\n",
       "    }\n",
       "\n",
       "    .dataframe thead th {\n",
       "        text-align: left;\n",
       "    }\n",
       "\n",
       "    .dataframe tbody tr th {\n",
       "        vertical-align: top;\n",
       "    }\n",
       "</style>\n",
       "<table border=\"1\" class=\"dataframe\">\n",
       "  <thead>\n",
       "    <tr style=\"text-align: right;\">\n",
       "      <th></th>\n",
       "      <th>Meeting</th>\n",
       "      <th>Ex</th>\n",
       "      <th>Date</th>\n",
       "      <th>Bias</th>\n",
       "      <th>Start</th>\n",
       "      <th>End</th>\n",
       "      <th>SETA</th>\n",
       "      <th>TBAN</th>\n",
       "      <th>SELICef</th>\n",
       "      <th>SELICpy</th>\n",
       "    </tr>\n",
       "  </thead>\n",
       "  <tbody>\n",
       "    <tr>\n",
       "      <th>0</th>\n",
       "      <td>207</td>\n",
       "      <td>NaN</td>\n",
       "      <td>2017-05-31</td>\n",
       "      <td>NaN</td>\n",
       "      <td>2017-06-01</td>\n",
       "      <td>NaT</td>\n",
       "      <td>10.25</td>\n",
       "      <td>NaN</td>\n",
       "      <td>NaN</td>\n",
       "      <td>NaN</td>\n",
       "    </tr>\n",
       "    <tr>\n",
       "      <th>1</th>\n",
       "      <td>206</td>\n",
       "      <td>NaN</td>\n",
       "      <td>2017-04-12</td>\n",
       "      <td>NaN</td>\n",
       "      <td>2017-04-13</td>\n",
       "      <td>2017-05-31</td>\n",
       "      <td>11.25</td>\n",
       "      <td>NaN</td>\n",
       "      <td>NaN</td>\n",
       "      <td>NaN</td>\n",
       "    </tr>\n",
       "    <tr>\n",
       "      <th>2</th>\n",
       "      <td>205</td>\n",
       "      <td>NaN</td>\n",
       "      <td>2017-02-22</td>\n",
       "      <td>NaN</td>\n",
       "      <td>2017-02-23</td>\n",
       "      <td>2017-04-12</td>\n",
       "      <td>12.25</td>\n",
       "      <td>NaN</td>\n",
       "      <td>1.51</td>\n",
       "      <td>12.15</td>\n",
       "    </tr>\n",
       "    <tr>\n",
       "      <th>3</th>\n",
       "      <td>204</td>\n",
       "      <td>NaN</td>\n",
       "      <td>2017-01-11</td>\n",
       "      <td>NaN</td>\n",
       "      <td>2017-01-12</td>\n",
       "      <td>2017-02-22</td>\n",
       "      <td>13.00</td>\n",
       "      <td>NaN</td>\n",
       "      <td>1.45</td>\n",
       "      <td>12.90</td>\n",
       "    </tr>\n",
       "    <tr>\n",
       "      <th>4</th>\n",
       "      <td>203</td>\n",
       "      <td>NaN</td>\n",
       "      <td>2016-11-30</td>\n",
       "      <td>NaN</td>\n",
       "      <td>2016-12-01</td>\n",
       "      <td>2017-01-11</td>\n",
       "      <td>13.75</td>\n",
       "      <td>NaN</td>\n",
       "      <td>1.53</td>\n",
       "      <td>13.65</td>\n",
       "    </tr>\n",
       "  </tbody>\n",
       "</table>\n",
       "</div>"
      ],
      "text/plain": [
       "  Meeting   Ex       Date Bias      Start        End   SETA  TBAN  SELICef  \\\n",
       "0     207  NaN 2017-05-31  NaN 2017-06-01        NaT  10.25   NaN      NaN   \n",
       "1     206  NaN 2017-04-12  NaN 2017-04-13 2017-05-31  11.25   NaN      NaN   \n",
       "2     205  NaN 2017-02-22  NaN 2017-02-23 2017-04-12  12.25   NaN     1.51   \n",
       "3     204  NaN 2017-01-11  NaN 2017-01-12 2017-02-22  13.00   NaN     1.45   \n",
       "4     203  NaN 2016-11-30  NaN 2016-12-01 2017-01-11  13.75   NaN     1.53   \n",
       "\n",
       "   SELICpy  \n",
       "0      NaN  \n",
       "1      NaN  \n",
       "2    12.15  \n",
       "3    12.90  \n",
       "4    13.65  "
      ]
     },
     "execution_count": 8,
     "metadata": {},
     "output_type": "execute_result"
    }
   ],
   "source": [
    "dfCOPOM.head()"
   ]
  },
  {
   "cell_type": "markdown",
   "metadata": {},
   "source": [
    "## Extraordinary meetings"
   ]
  },
  {
   "cell_type": "code",
   "execution_count": 9,
   "metadata": {
    "scrolled": true
   },
   "outputs": [
    {
     "data": {
      "text/html": [
       "<div>\n",
       "<style>\n",
       "    .dataframe thead tr:only-child th {\n",
       "        text-align: right;\n",
       "    }\n",
       "\n",
       "    .dataframe thead th {\n",
       "        text-align: left;\n",
       "    }\n",
       "\n",
       "    .dataframe tbody tr th {\n",
       "        vertical-align: top;\n",
       "    }\n",
       "</style>\n",
       "<table border=\"1\" class=\"dataframe\">\n",
       "  <thead>\n",
       "    <tr style=\"text-align: right;\">\n",
       "      <th></th>\n",
       "      <th>Meeting</th>\n",
       "      <th>Ex</th>\n",
       "      <th>Date</th>\n",
       "      <th>Bias</th>\n",
       "      <th>Start</th>\n",
       "      <th>End</th>\n",
       "      <th>SETA</th>\n",
       "      <th>TBAN</th>\n",
       "      <th>SELICef</th>\n",
       "      <th>SELICpy</th>\n",
       "    </tr>\n",
       "  </thead>\n",
       "  <tbody>\n",
       "    <tr>\n",
       "      <th>131</th>\n",
       "      <td>76</td>\n",
       "      <td>ex.</td>\n",
       "      <td>2002-10-14</td>\n",
       "      <td>NaN</td>\n",
       "      <td>2002-10-15</td>\n",
       "      <td>2002-10-23</td>\n",
       "      <td>21.00</td>\n",
       "      <td>NaN</td>\n",
       "      <td>0.53</td>\n",
       "      <td>20.90</td>\n",
       "    </tr>\n",
       "    <tr>\n",
       "      <th>187</th>\n",
       "      <td>28</td>\n",
       "      <td>ex.</td>\n",
       "      <td>1998-09-10</td>\n",
       "      <td>NaN</td>\n",
       "      <td>1998-09-11</td>\n",
       "      <td>1998-10-07</td>\n",
       "      <td>19.00</td>\n",
       "      <td>49.75</td>\n",
       "      <td>2.58</td>\n",
       "      <td>40.18</td>\n",
       "    </tr>\n",
       "    <tr>\n",
       "      <th>197</th>\n",
       "      <td>18</td>\n",
       "      <td>ex.</td>\n",
       "      <td>1997-10-30</td>\n",
       "      <td>NaN</td>\n",
       "      <td>1997-10-31</td>\n",
       "      <td>1997-11-30</td>\n",
       "      <td>3.05</td>\n",
       "      <td>3.23</td>\n",
       "      <td>3.18</td>\n",
       "      <td>45.67</td>\n",
       "    </tr>\n",
       "  </tbody>\n",
       "</table>\n",
       "</div>"
      ],
      "text/plain": [
       "    Meeting   Ex       Date Bias      Start        End   SETA   TBAN  SELICef  \\\n",
       "131      76  ex. 2002-10-14  NaN 2002-10-15 2002-10-23  21.00    NaN     0.53   \n",
       "187      28  ex. 1998-09-10  NaN 1998-09-11 1998-10-07  19.00  49.75     2.58   \n",
       "197      18  ex. 1997-10-30  NaN 1997-10-31 1997-11-30   3.05   3.23     3.18   \n",
       "\n",
       "     SELICpy  \n",
       "131    20.90  \n",
       "187    40.18  \n",
       "197    45.67  "
      ]
     },
     "execution_count": 9,
     "metadata": {},
     "output_type": "execute_result"
    }
   ],
   "source": [
    "dfCOPOM[dfCOPOM['Ex'].notnull()]"
   ]
  },
  {
   "cell_type": "markdown",
   "metadata": {},
   "source": [
    "## SELIC Target"
   ]
  },
  {
   "cell_type": "markdown",
   "metadata": {},
   "source": [
    "The SELIC Target as we know today started in 1999-03-04, so we will crop the Data Frame"
   ]
  },
  {
   "cell_type": "code",
   "execution_count": 10,
   "metadata": {},
   "outputs": [
    {
     "data": {
      "text/html": [
       "<div>\n",
       "<style>\n",
       "    .dataframe thead tr:only-child th {\n",
       "        text-align: right;\n",
       "    }\n",
       "\n",
       "    .dataframe thead th {\n",
       "        text-align: left;\n",
       "    }\n",
       "\n",
       "    .dataframe tbody tr th {\n",
       "        vertical-align: top;\n",
       "    }\n",
       "</style>\n",
       "<table border=\"1\" class=\"dataframe\">\n",
       "  <thead>\n",
       "    <tr style=\"text-align: right;\">\n",
       "      <th></th>\n",
       "      <th>Meeting</th>\n",
       "      <th>Ex</th>\n",
       "      <th>Date</th>\n",
       "      <th>Bias</th>\n",
       "      <th>Start</th>\n",
       "      <th>End</th>\n",
       "      <th>SETA</th>\n",
       "      <th>TBAN</th>\n",
       "      <th>SELICef</th>\n",
       "      <th>SELICpy</th>\n",
       "    </tr>\n",
       "  </thead>\n",
       "  <tbody>\n",
       "    <tr>\n",
       "      <th>182</th>\n",
       "      <td>NaN</td>\n",
       "      <td>NaN</td>\n",
       "      <td>1999-03-04</td>\n",
       "      <td>d.b.</td>\n",
       "      <td>1999-03-05</td>\n",
       "      <td>1999-03-24</td>\n",
       "      <td>45.0</td>\n",
       "      <td>NaN</td>\n",
       "      <td>2.08</td>\n",
       "      <td>44.95</td>\n",
       "    </tr>\n",
       "  </tbody>\n",
       "</table>\n",
       "</div>"
      ],
      "text/plain": [
       "    Meeting   Ex       Date  Bias      Start        End  SETA  TBAN  SELICef  \\\n",
       "182     NaN  NaN 1999-03-04  d.b. 1999-03-05 1999-03-24  45.0   NaN     2.08   \n",
       "\n",
       "     SELICpy  \n",
       "182    44.95  "
      ]
     },
     "execution_count": 10,
     "metadata": {},
     "output_type": "execute_result"
    }
   ],
   "source": [
    "dfCOPOM[dfCOPOM['Date']=='1999-03-04']"
   ]
  },
  {
   "cell_type": "code",
   "execution_count": 11,
   "metadata": {
    "collapsed": true
   },
   "outputs": [],
   "source": [
    "coldfC2=['Meeting','Ex','Date','Bias','Start','End','SETA']"
   ]
  },
  {
   "cell_type": "code",
   "execution_count": 12,
   "metadata": {},
   "outputs": [],
   "source": [
    "cut=dfCOPOM[dfCOPOM['Date']=='1999-03-04'].index[0]"
   ]
  },
  {
   "cell_type": "code",
   "execution_count": 13,
   "metadata": {},
   "outputs": [],
   "source": [
    "dfCOPOM2=(dfCOPOM.loc[:cut])[coldfC2]"
   ]
  },
  {
   "cell_type": "markdown",
   "metadata": {},
   "source": [
    "## Rows missing meeting id"
   ]
  },
  {
   "cell_type": "code",
   "execution_count": 14,
   "metadata": {},
   "outputs": [
    {
     "data": {
      "text/html": [
       "<div>\n",
       "<style>\n",
       "    .dataframe thead tr:only-child th {\n",
       "        text-align: right;\n",
       "    }\n",
       "\n",
       "    .dataframe thead th {\n",
       "        text-align: left;\n",
       "    }\n",
       "\n",
       "    .dataframe tbody tr th {\n",
       "        vertical-align: top;\n",
       "    }\n",
       "</style>\n",
       "<table border=\"1\" class=\"dataframe\">\n",
       "  <thead>\n",
       "    <tr style=\"text-align: right;\">\n",
       "      <th></th>\n",
       "      <th>Meeting</th>\n",
       "      <th>Ex</th>\n",
       "      <th>Date</th>\n",
       "      <th>Bias</th>\n",
       "      <th>Start</th>\n",
       "      <th>End</th>\n",
       "      <th>SETA</th>\n",
       "    </tr>\n",
       "  </thead>\n",
       "  <tbody>\n",
       "    <tr>\n",
       "      <th>160</th>\n",
       "      <td>NaN</td>\n",
       "      <td>NaN</td>\n",
       "      <td>2000-06-20</td>\n",
       "      <td>d.b.</td>\n",
       "      <td>2000-06-21</td>\n",
       "      <td>2000-07-07</td>\n",
       "      <td>17.5</td>\n",
       "    </tr>\n",
       "    <tr>\n",
       "      <th>164</th>\n",
       "      <td>NaN</td>\n",
       "      <td>NaN</td>\n",
       "      <td>2000-03-22</td>\n",
       "      <td>d.b.</td>\n",
       "      <td>2000-03-23</td>\n",
       "      <td>2000-03-28</td>\n",
       "      <td>19.0</td>\n",
       "    </tr>\n",
       "    <tr>\n",
       "      <th>175</th>\n",
       "      <td>NaN</td>\n",
       "      <td>NaN</td>\n",
       "      <td>1999-05-19</td>\n",
       "      <td>d.b.</td>\n",
       "      <td>1999-05-20</td>\n",
       "      <td>1999-06-08</td>\n",
       "      <td>23.5</td>\n",
       "    </tr>\n",
       "    <tr>\n",
       "      <th>177</th>\n",
       "      <td>NaN</td>\n",
       "      <td>NaN</td>\n",
       "      <td>NaT</td>\n",
       "      <td>used/d.b.</td>\n",
       "      <td>1999-05-10</td>\n",
       "      <td>1999-05-12</td>\n",
       "      <td>29.5</td>\n",
       "    </tr>\n",
       "    <tr>\n",
       "      <th>178</th>\n",
       "      <td>NaN</td>\n",
       "      <td>NaN</td>\n",
       "      <td>NaT</td>\n",
       "      <td>used/d.b.</td>\n",
       "      <td>1999-04-29</td>\n",
       "      <td>1999-05-07</td>\n",
       "      <td>32.0</td>\n",
       "    </tr>\n",
       "    <tr>\n",
       "      <th>179</th>\n",
       "      <td>NaN</td>\n",
       "      <td>NaN</td>\n",
       "      <td>1999-04-14</td>\n",
       "      <td>d.b.</td>\n",
       "      <td>1999-04-15</td>\n",
       "      <td>1999-04-28</td>\n",
       "      <td>34.0</td>\n",
       "    </tr>\n",
       "    <tr>\n",
       "      <th>181</th>\n",
       "      <td>NaN</td>\n",
       "      <td>NaN</td>\n",
       "      <td>NaT</td>\n",
       "      <td>used/d.b.</td>\n",
       "      <td>1999-03-25</td>\n",
       "      <td>1999-04-05</td>\n",
       "      <td>42.0</td>\n",
       "    </tr>\n",
       "    <tr>\n",
       "      <th>182</th>\n",
       "      <td>NaN</td>\n",
       "      <td>NaN</td>\n",
       "      <td>1999-03-04</td>\n",
       "      <td>d.b.</td>\n",
       "      <td>1999-03-05</td>\n",
       "      <td>1999-03-24</td>\n",
       "      <td>45.0</td>\n",
       "    </tr>\n",
       "  </tbody>\n",
       "</table>\n",
       "</div>"
      ],
      "text/plain": [
       "    Meeting   Ex       Date       Bias      Start        End  SETA\n",
       "160     NaN  NaN 2000-06-20       d.b. 2000-06-21 2000-07-07  17.5\n",
       "164     NaN  NaN 2000-03-22       d.b. 2000-03-23 2000-03-28  19.0\n",
       "175     NaN  NaN 1999-05-19       d.b. 1999-05-20 1999-06-08  23.5\n",
       "177     NaN  NaN        NaT  used/d.b. 1999-05-10 1999-05-12  29.5\n",
       "178     NaN  NaN        NaT  used/d.b. 1999-04-29 1999-05-07  32.0\n",
       "179     NaN  NaN 1999-04-14       d.b. 1999-04-15 1999-04-28  34.0\n",
       "181     NaN  NaN        NaT  used/d.b. 1999-03-25 1999-04-05  42.0\n",
       "182     NaN  NaN 1999-03-04       d.b. 1999-03-05 1999-03-24  45.0"
      ]
     },
     "execution_count": 14,
     "metadata": {},
     "output_type": "execute_result"
    }
   ],
   "source": [
    "dfCOPOM2[dfCOPOM2['Meeting'].isnull()]"
   ]
  },
  {
   "cell_type": "markdown",
   "metadata": {},
   "source": [
    "What is happening? Poor choice of formats - again"
   ]
  },
  {
   "cell_type": "code",
   "execution_count": 15,
   "metadata": {},
   "outputs": [
    {
     "data": {
      "text/html": [
       "<div>\n",
       "<style>\n",
       "    .dataframe thead tr:only-child th {\n",
       "        text-align: right;\n",
       "    }\n",
       "\n",
       "    .dataframe thead th {\n",
       "        text-align: left;\n",
       "    }\n",
       "\n",
       "    .dataframe tbody tr th {\n",
       "        vertical-align: top;\n",
       "    }\n",
       "</style>\n",
       "<table border=\"1\" class=\"dataframe\">\n",
       "  <thead>\n",
       "    <tr style=\"text-align: right;\">\n",
       "      <th></th>\n",
       "      <th>Meeting</th>\n",
       "      <th>Ex</th>\n",
       "      <th>Date</th>\n",
       "      <th>Bias</th>\n",
       "      <th>Start</th>\n",
       "      <th>End</th>\n",
       "      <th>SETA</th>\n",
       "      <th>TBAN</th>\n",
       "      <th>SELICef</th>\n",
       "      <th>SELICpy</th>\n",
       "    </tr>\n",
       "  </thead>\n",
       "  <tbody>\n",
       "    <tr>\n",
       "      <th>158</th>\n",
       "      <td>49</td>\n",
       "      <td>NaN</td>\n",
       "      <td>2000-07-19</td>\n",
       "      <td>NaN</td>\n",
       "      <td>2000-07-20</td>\n",
       "      <td>2000-08-23</td>\n",
       "      <td>16.5</td>\n",
       "      <td>NaN</td>\n",
       "      <td>1.53</td>\n",
       "      <td>16.51</td>\n",
       "    </tr>\n",
       "    <tr>\n",
       "      <th>159</th>\n",
       "      <td>48</td>\n",
       "      <td>NaN</td>\n",
       "      <td>NaT</td>\n",
       "      <td>used/d.b.</td>\n",
       "      <td>2000-07-10</td>\n",
       "      <td>2000-07-19</td>\n",
       "      <td>17.0</td>\n",
       "      <td>NaN</td>\n",
       "      <td>0.50</td>\n",
       "      <td>16.96</td>\n",
       "    </tr>\n",
       "    <tr>\n",
       "      <th>160</th>\n",
       "      <td>NaN</td>\n",
       "      <td>NaN</td>\n",
       "      <td>2000-06-20</td>\n",
       "      <td>d.b.</td>\n",
       "      <td>2000-06-21</td>\n",
       "      <td>2000-07-07</td>\n",
       "      <td>17.5</td>\n",
       "      <td>NaN</td>\n",
       "      <td>0.76</td>\n",
       "      <td>17.34</td>\n",
       "    </tr>\n",
       "    <tr>\n",
       "      <th>161</th>\n",
       "      <td>47</td>\n",
       "      <td>NaN</td>\n",
       "      <td>2000-05-24</td>\n",
       "      <td>NaN</td>\n",
       "      <td>2000-05-25</td>\n",
       "      <td>2000-06-20</td>\n",
       "      <td>18.5</td>\n",
       "      <td>NaN</td>\n",
       "      <td>1.28</td>\n",
       "      <td>18.39</td>\n",
       "    </tr>\n",
       "    <tr>\n",
       "      <th>162</th>\n",
       "      <td>46</td>\n",
       "      <td>NaN</td>\n",
       "      <td>2000-04-19</td>\n",
       "      <td>NaN</td>\n",
       "      <td>2000-04-20</td>\n",
       "      <td>2000-05-24</td>\n",
       "      <td>18.5</td>\n",
       "      <td>NaN</td>\n",
       "      <td>1.57</td>\n",
       "      <td>18.55</td>\n",
       "    </tr>\n",
       "    <tr>\n",
       "      <th>163</th>\n",
       "      <td>45</td>\n",
       "      <td>NaN</td>\n",
       "      <td>NaT</td>\n",
       "      <td>used/d.b.</td>\n",
       "      <td>2000-03-29</td>\n",
       "      <td>2000-04-19</td>\n",
       "      <td>18.5</td>\n",
       "      <td>NaN</td>\n",
       "      <td>1.09</td>\n",
       "      <td>18.60</td>\n",
       "    </tr>\n",
       "    <tr>\n",
       "      <th>164</th>\n",
       "      <td>NaN</td>\n",
       "      <td>NaN</td>\n",
       "      <td>2000-03-22</td>\n",
       "      <td>d.b.</td>\n",
       "      <td>2000-03-23</td>\n",
       "      <td>2000-03-28</td>\n",
       "      <td>19.0</td>\n",
       "      <td>NaN</td>\n",
       "      <td>0.28</td>\n",
       "      <td>18.94</td>\n",
       "    </tr>\n",
       "    <tr>\n",
       "      <th>165</th>\n",
       "      <td>44</td>\n",
       "      <td>NaN</td>\n",
       "      <td>2000-02-16</td>\n",
       "      <td>NaN</td>\n",
       "      <td>2000-02-17</td>\n",
       "      <td>2000-03-22</td>\n",
       "      <td>19.0</td>\n",
       "      <td>NaN</td>\n",
       "      <td>1.59</td>\n",
       "      <td>18.88</td>\n",
       "    </tr>\n",
       "    <tr>\n",
       "      <th>166</th>\n",
       "      <td>43</td>\n",
       "      <td>NaN</td>\n",
       "      <td>2000-01-19</td>\n",
       "      <td>NaN</td>\n",
       "      <td>2000-01-20</td>\n",
       "      <td>2000-02-16</td>\n",
       "      <td>19.0</td>\n",
       "      <td>NaN</td>\n",
       "      <td>1.45</td>\n",
       "      <td>18.87</td>\n",
       "    </tr>\n",
       "    <tr>\n",
       "      <th>167</th>\n",
       "      <td>42</td>\n",
       "      <td>NaN</td>\n",
       "      <td>1999-12-15</td>\n",
       "      <td>NaN</td>\n",
       "      <td>1999-12-16</td>\n",
       "      <td>2000-01-19</td>\n",
       "      <td>19.0</td>\n",
       "      <td>NaN</td>\n",
       "      <td>1.74</td>\n",
       "      <td>19.00</td>\n",
       "    </tr>\n",
       "    <tr>\n",
       "      <th>168</th>\n",
       "      <td>41</td>\n",
       "      <td>NaN</td>\n",
       "      <td>1999-11-10</td>\n",
       "      <td>NaN</td>\n",
       "      <td>1999-11-11</td>\n",
       "      <td>1999-12-15</td>\n",
       "      <td>19.0</td>\n",
       "      <td>NaN</td>\n",
       "      <td>1.67</td>\n",
       "      <td>18.99</td>\n",
       "    </tr>\n",
       "    <tr>\n",
       "      <th>169</th>\n",
       "      <td>40</td>\n",
       "      <td>NaN</td>\n",
       "      <td>1999-10-06</td>\n",
       "      <td>d.b.</td>\n",
       "      <td>1999-10-07</td>\n",
       "      <td>1999-11-10</td>\n",
       "      <td>19.0</td>\n",
       "      <td>NaN</td>\n",
       "      <td>1.59</td>\n",
       "      <td>18.87</td>\n",
       "    </tr>\n",
       "    <tr>\n",
       "      <th>170</th>\n",
       "      <td>39</td>\n",
       "      <td>NaN</td>\n",
       "      <td>1999-09-22</td>\n",
       "      <td>NaN</td>\n",
       "      <td>1999-09-23</td>\n",
       "      <td>1999-10-06</td>\n",
       "      <td>19.0</td>\n",
       "      <td>NaN</td>\n",
       "      <td>0.69</td>\n",
       "      <td>19.01</td>\n",
       "    </tr>\n",
       "    <tr>\n",
       "      <th>171</th>\n",
       "      <td>38</td>\n",
       "      <td>NaN</td>\n",
       "      <td>1999-09-01</td>\n",
       "      <td>NaN</td>\n",
       "      <td>1999-09-02</td>\n",
       "      <td>1999-09-22</td>\n",
       "      <td>19.5</td>\n",
       "      <td>NaN</td>\n",
       "      <td>1.00</td>\n",
       "      <td>19.52</td>\n",
       "    </tr>\n",
       "    <tr>\n",
       "      <th>172</th>\n",
       "      <td>37</td>\n",
       "      <td>NaN</td>\n",
       "      <td>1999-07-28</td>\n",
       "      <td>NaN</td>\n",
       "      <td>1999-07-29</td>\n",
       "      <td>1999-09-01</td>\n",
       "      <td>19.5</td>\n",
       "      <td>NaN</td>\n",
       "      <td>1.78</td>\n",
       "      <td>19.51</td>\n",
       "    </tr>\n",
       "    <tr>\n",
       "      <th>173</th>\n",
       "      <td>36</td>\n",
       "      <td>NaN</td>\n",
       "      <td>1999-06-23</td>\n",
       "      <td>d.b.</td>\n",
       "      <td>1999-06-24</td>\n",
       "      <td>1999-07-28</td>\n",
       "      <td>21.0</td>\n",
       "      <td>NaN</td>\n",
       "      <td>1.90</td>\n",
       "      <td>20.88</td>\n",
       "    </tr>\n",
       "    <tr>\n",
       "      <th>174</th>\n",
       "      <td>35</td>\n",
       "      <td>NaN</td>\n",
       "      <td>NaT</td>\n",
       "      <td>used/d.b.</td>\n",
       "      <td>1999-06-09</td>\n",
       "      <td>1999-06-23</td>\n",
       "      <td>22.0</td>\n",
       "      <td>NaN</td>\n",
       "      <td>0.87</td>\n",
       "      <td>21.92</td>\n",
       "    </tr>\n",
       "    <tr>\n",
       "      <th>175</th>\n",
       "      <td>NaN</td>\n",
       "      <td>NaN</td>\n",
       "      <td>1999-05-19</td>\n",
       "      <td>d.b.</td>\n",
       "      <td>1999-05-20</td>\n",
       "      <td>1999-06-08</td>\n",
       "      <td>23.5</td>\n",
       "      <td>NaN</td>\n",
       "      <td>1.09</td>\n",
       "      <td>23.36</td>\n",
       "    </tr>\n",
       "    <tr>\n",
       "      <th>176</th>\n",
       "      <td>34</td>\n",
       "      <td>NaN</td>\n",
       "      <td>NaT</td>\n",
       "      <td>used/d.b.</td>\n",
       "      <td>1999-05-13</td>\n",
       "      <td>1999-05-19</td>\n",
       "      <td>27.0</td>\n",
       "      <td>NaN</td>\n",
       "      <td>0.47</td>\n",
       "      <td>26.96</td>\n",
       "    </tr>\n",
       "    <tr>\n",
       "      <th>177</th>\n",
       "      <td>NaN</td>\n",
       "      <td>NaN</td>\n",
       "      <td>NaT</td>\n",
       "      <td>used/d.b.</td>\n",
       "      <td>1999-05-10</td>\n",
       "      <td>1999-05-12</td>\n",
       "      <td>29.5</td>\n",
       "      <td>NaN</td>\n",
       "      <td>0.31</td>\n",
       "      <td>29.53</td>\n",
       "    </tr>\n",
       "    <tr>\n",
       "      <th>178</th>\n",
       "      <td>NaN</td>\n",
       "      <td>NaN</td>\n",
       "      <td>NaT</td>\n",
       "      <td>used/d.b.</td>\n",
       "      <td>1999-04-29</td>\n",
       "      <td>1999-05-07</td>\n",
       "      <td>32.0</td>\n",
       "      <td>NaN</td>\n",
       "      <td>0.77</td>\n",
       "      <td>31.91</td>\n",
       "    </tr>\n",
       "    <tr>\n",
       "      <th>179</th>\n",
       "      <td>NaN</td>\n",
       "      <td>NaN</td>\n",
       "      <td>1999-04-14</td>\n",
       "      <td>d.b.</td>\n",
       "      <td>1999-04-15</td>\n",
       "      <td>1999-04-28</td>\n",
       "      <td>34.0</td>\n",
       "      <td>NaN</td>\n",
       "      <td>1.05</td>\n",
       "      <td>33.92</td>\n",
       "    </tr>\n",
       "    <tr>\n",
       "      <th>180</th>\n",
       "      <td>33</td>\n",
       "      <td>NaN</td>\n",
       "      <td>NaT</td>\n",
       "      <td>used/d.b.</td>\n",
       "      <td>1999-04-06</td>\n",
       "      <td>1999-04-14</td>\n",
       "      <td>39.5</td>\n",
       "      <td>NaN</td>\n",
       "      <td>0.93</td>\n",
       "      <td>39.42</td>\n",
       "    </tr>\n",
       "    <tr>\n",
       "      <th>181</th>\n",
       "      <td>NaN</td>\n",
       "      <td>NaN</td>\n",
       "      <td>NaT</td>\n",
       "      <td>used/d.b.</td>\n",
       "      <td>1999-03-25</td>\n",
       "      <td>1999-04-05</td>\n",
       "      <td>42.0</td>\n",
       "      <td>NaN</td>\n",
       "      <td>0.84</td>\n",
       "      <td>41.96</td>\n",
       "    </tr>\n",
       "    <tr>\n",
       "      <th>182</th>\n",
       "      <td>NaN</td>\n",
       "      <td>NaN</td>\n",
       "      <td>1999-03-04</td>\n",
       "      <td>d.b.</td>\n",
       "      <td>1999-03-05</td>\n",
       "      <td>1999-03-24</td>\n",
       "      <td>45.0</td>\n",
       "      <td>NaN</td>\n",
       "      <td>2.08</td>\n",
       "      <td>44.95</td>\n",
       "    </tr>\n",
       "  </tbody>\n",
       "</table>\n",
       "</div>"
      ],
      "text/plain": [
       "    Meeting   Ex       Date       Bias      Start        End  SETA  TBAN  \\\n",
       "158      49  NaN 2000-07-19        NaN 2000-07-20 2000-08-23  16.5   NaN   \n",
       "159      48  NaN        NaT  used/d.b. 2000-07-10 2000-07-19  17.0   NaN   \n",
       "160     NaN  NaN 2000-06-20       d.b. 2000-06-21 2000-07-07  17.5   NaN   \n",
       "161      47  NaN 2000-05-24        NaN 2000-05-25 2000-06-20  18.5   NaN   \n",
       "162      46  NaN 2000-04-19        NaN 2000-04-20 2000-05-24  18.5   NaN   \n",
       "163      45  NaN        NaT  used/d.b. 2000-03-29 2000-04-19  18.5   NaN   \n",
       "164     NaN  NaN 2000-03-22       d.b. 2000-03-23 2000-03-28  19.0   NaN   \n",
       "165      44  NaN 2000-02-16        NaN 2000-02-17 2000-03-22  19.0   NaN   \n",
       "166      43  NaN 2000-01-19        NaN 2000-01-20 2000-02-16  19.0   NaN   \n",
       "167      42  NaN 1999-12-15        NaN 1999-12-16 2000-01-19  19.0   NaN   \n",
       "168      41  NaN 1999-11-10        NaN 1999-11-11 1999-12-15  19.0   NaN   \n",
       "169      40  NaN 1999-10-06       d.b. 1999-10-07 1999-11-10  19.0   NaN   \n",
       "170      39  NaN 1999-09-22        NaN 1999-09-23 1999-10-06  19.0   NaN   \n",
       "171      38  NaN 1999-09-01        NaN 1999-09-02 1999-09-22  19.5   NaN   \n",
       "172      37  NaN 1999-07-28        NaN 1999-07-29 1999-09-01  19.5   NaN   \n",
       "173      36  NaN 1999-06-23       d.b. 1999-06-24 1999-07-28  21.0   NaN   \n",
       "174      35  NaN        NaT  used/d.b. 1999-06-09 1999-06-23  22.0   NaN   \n",
       "175     NaN  NaN 1999-05-19       d.b. 1999-05-20 1999-06-08  23.5   NaN   \n",
       "176      34  NaN        NaT  used/d.b. 1999-05-13 1999-05-19  27.0   NaN   \n",
       "177     NaN  NaN        NaT  used/d.b. 1999-05-10 1999-05-12  29.5   NaN   \n",
       "178     NaN  NaN        NaT  used/d.b. 1999-04-29 1999-05-07  32.0   NaN   \n",
       "179     NaN  NaN 1999-04-14       d.b. 1999-04-15 1999-04-28  34.0   NaN   \n",
       "180      33  NaN        NaT  used/d.b. 1999-04-06 1999-04-14  39.5   NaN   \n",
       "181     NaN  NaN        NaT  used/d.b. 1999-03-25 1999-04-05  42.0   NaN   \n",
       "182     NaN  NaN 1999-03-04       d.b. 1999-03-05 1999-03-24  45.0   NaN   \n",
       "\n",
       "     SELICef  SELICpy  \n",
       "158     1.53    16.51  \n",
       "159     0.50    16.96  \n",
       "160     0.76    17.34  \n",
       "161     1.28    18.39  \n",
       "162     1.57    18.55  \n",
       "163     1.09    18.60  \n",
       "164     0.28    18.94  \n",
       "165     1.59    18.88  \n",
       "166     1.45    18.87  \n",
       "167     1.74    19.00  \n",
       "168     1.67    18.99  \n",
       "169     1.59    18.87  \n",
       "170     0.69    19.01  \n",
       "171     1.00    19.52  \n",
       "172     1.78    19.51  \n",
       "173     1.90    20.88  \n",
       "174     0.87    21.92  \n",
       "175     1.09    23.36  \n",
       "176     0.47    26.96  \n",
       "177     0.31    29.53  \n",
       "178     0.77    31.91  \n",
       "179     1.05    33.92  \n",
       "180     0.93    39.42  \n",
       "181     0.84    41.96  \n",
       "182     2.08    44.95  "
      ]
     },
     "execution_count": 15,
     "metadata": {},
     "output_type": "execute_result"
    }
   ],
   "source": [
    "dfCOPOM.loc[158:182]"
   ]
  },
  {
   "cell_type": "markdown",
   "metadata": {},
   "source": [
    "The 33rd meeting was on 1999-03-04, and subsequently (before the 34th meeting) the downward bias was used twice."
   ]
  },
  {
   "cell_type": "markdown",
   "metadata": {},
   "source": [
    "So we fill 'Meeting' down (we have not ordered the table yet)"
   ]
  },
  {
   "cell_type": "code",
   "execution_count": 16,
   "metadata": {
    "collapsed": true
   },
   "outputs": [],
   "source": [
    "dfCOPOM2['Meeting'] = dfCOPOM2['Meeting'].fillna(method='pad')"
   ]
  },
  {
   "cell_type": "code",
   "execution_count": 17,
   "metadata": {},
   "outputs": [
    {
     "data": {
      "text/html": [
       "<div>\n",
       "<style>\n",
       "    .dataframe thead tr:only-child th {\n",
       "        text-align: right;\n",
       "    }\n",
       "\n",
       "    .dataframe thead th {\n",
       "        text-align: left;\n",
       "    }\n",
       "\n",
       "    .dataframe tbody tr th {\n",
       "        vertical-align: top;\n",
       "    }\n",
       "</style>\n",
       "<table border=\"1\" class=\"dataframe\">\n",
       "  <thead>\n",
       "    <tr style=\"text-align: right;\">\n",
       "      <th></th>\n",
       "      <th>Meeting</th>\n",
       "      <th>Ex</th>\n",
       "      <th>Date</th>\n",
       "      <th>Bias</th>\n",
       "      <th>Start</th>\n",
       "      <th>End</th>\n",
       "      <th>SETA</th>\n",
       "    </tr>\n",
       "  </thead>\n",
       "  <tbody>\n",
       "    <tr>\n",
       "      <th>156</th>\n",
       "      <td>51</td>\n",
       "      <td>NaN</td>\n",
       "      <td>2000-09-20</td>\n",
       "      <td>NaN</td>\n",
       "      <td>2000-09-21</td>\n",
       "      <td>2000-10-18</td>\n",
       "      <td>16.5</td>\n",
       "    </tr>\n",
       "    <tr>\n",
       "      <th>157</th>\n",
       "      <td>50</td>\n",
       "      <td>NaN</td>\n",
       "      <td>2000-08-23</td>\n",
       "      <td>NaN</td>\n",
       "      <td>2000-08-24</td>\n",
       "      <td>2000-09-20</td>\n",
       "      <td>16.5</td>\n",
       "    </tr>\n",
       "    <tr>\n",
       "      <th>158</th>\n",
       "      <td>49</td>\n",
       "      <td>NaN</td>\n",
       "      <td>2000-07-19</td>\n",
       "      <td>NaN</td>\n",
       "      <td>2000-07-20</td>\n",
       "      <td>2000-08-23</td>\n",
       "      <td>16.5</td>\n",
       "    </tr>\n",
       "    <tr>\n",
       "      <th>159</th>\n",
       "      <td>48</td>\n",
       "      <td>NaN</td>\n",
       "      <td>NaT</td>\n",
       "      <td>used/d.b.</td>\n",
       "      <td>2000-07-10</td>\n",
       "      <td>2000-07-19</td>\n",
       "      <td>17.0</td>\n",
       "    </tr>\n",
       "    <tr>\n",
       "      <th>160</th>\n",
       "      <td>48</td>\n",
       "      <td>NaN</td>\n",
       "      <td>2000-06-20</td>\n",
       "      <td>d.b.</td>\n",
       "      <td>2000-06-21</td>\n",
       "      <td>2000-07-07</td>\n",
       "      <td>17.5</td>\n",
       "    </tr>\n",
       "    <tr>\n",
       "      <th>161</th>\n",
       "      <td>47</td>\n",
       "      <td>NaN</td>\n",
       "      <td>2000-05-24</td>\n",
       "      <td>NaN</td>\n",
       "      <td>2000-05-25</td>\n",
       "      <td>2000-06-20</td>\n",
       "      <td>18.5</td>\n",
       "    </tr>\n",
       "    <tr>\n",
       "      <th>162</th>\n",
       "      <td>46</td>\n",
       "      <td>NaN</td>\n",
       "      <td>2000-04-19</td>\n",
       "      <td>NaN</td>\n",
       "      <td>2000-04-20</td>\n",
       "      <td>2000-05-24</td>\n",
       "      <td>18.5</td>\n",
       "    </tr>\n",
       "    <tr>\n",
       "      <th>163</th>\n",
       "      <td>45</td>\n",
       "      <td>NaN</td>\n",
       "      <td>NaT</td>\n",
       "      <td>used/d.b.</td>\n",
       "      <td>2000-03-29</td>\n",
       "      <td>2000-04-19</td>\n",
       "      <td>18.5</td>\n",
       "    </tr>\n",
       "    <tr>\n",
       "      <th>164</th>\n",
       "      <td>45</td>\n",
       "      <td>NaN</td>\n",
       "      <td>2000-03-22</td>\n",
       "      <td>d.b.</td>\n",
       "      <td>2000-03-23</td>\n",
       "      <td>2000-03-28</td>\n",
       "      <td>19.0</td>\n",
       "    </tr>\n",
       "    <tr>\n",
       "      <th>165</th>\n",
       "      <td>44</td>\n",
       "      <td>NaN</td>\n",
       "      <td>2000-02-16</td>\n",
       "      <td>NaN</td>\n",
       "      <td>2000-02-17</td>\n",
       "      <td>2000-03-22</td>\n",
       "      <td>19.0</td>\n",
       "    </tr>\n",
       "    <tr>\n",
       "      <th>166</th>\n",
       "      <td>43</td>\n",
       "      <td>NaN</td>\n",
       "      <td>2000-01-19</td>\n",
       "      <td>NaN</td>\n",
       "      <td>2000-01-20</td>\n",
       "      <td>2000-02-16</td>\n",
       "      <td>19.0</td>\n",
       "    </tr>\n",
       "    <tr>\n",
       "      <th>167</th>\n",
       "      <td>42</td>\n",
       "      <td>NaN</td>\n",
       "      <td>1999-12-15</td>\n",
       "      <td>NaN</td>\n",
       "      <td>1999-12-16</td>\n",
       "      <td>2000-01-19</td>\n",
       "      <td>19.0</td>\n",
       "    </tr>\n",
       "    <tr>\n",
       "      <th>168</th>\n",
       "      <td>41</td>\n",
       "      <td>NaN</td>\n",
       "      <td>1999-11-10</td>\n",
       "      <td>NaN</td>\n",
       "      <td>1999-11-11</td>\n",
       "      <td>1999-12-15</td>\n",
       "      <td>19.0</td>\n",
       "    </tr>\n",
       "    <tr>\n",
       "      <th>169</th>\n",
       "      <td>40</td>\n",
       "      <td>NaN</td>\n",
       "      <td>1999-10-06</td>\n",
       "      <td>d.b.</td>\n",
       "      <td>1999-10-07</td>\n",
       "      <td>1999-11-10</td>\n",
       "      <td>19.0</td>\n",
       "    </tr>\n",
       "    <tr>\n",
       "      <th>170</th>\n",
       "      <td>39</td>\n",
       "      <td>NaN</td>\n",
       "      <td>1999-09-22</td>\n",
       "      <td>NaN</td>\n",
       "      <td>1999-09-23</td>\n",
       "      <td>1999-10-06</td>\n",
       "      <td>19.0</td>\n",
       "    </tr>\n",
       "    <tr>\n",
       "      <th>171</th>\n",
       "      <td>38</td>\n",
       "      <td>NaN</td>\n",
       "      <td>1999-09-01</td>\n",
       "      <td>NaN</td>\n",
       "      <td>1999-09-02</td>\n",
       "      <td>1999-09-22</td>\n",
       "      <td>19.5</td>\n",
       "    </tr>\n",
       "    <tr>\n",
       "      <th>172</th>\n",
       "      <td>37</td>\n",
       "      <td>NaN</td>\n",
       "      <td>1999-07-28</td>\n",
       "      <td>NaN</td>\n",
       "      <td>1999-07-29</td>\n",
       "      <td>1999-09-01</td>\n",
       "      <td>19.5</td>\n",
       "    </tr>\n",
       "    <tr>\n",
       "      <th>173</th>\n",
       "      <td>36</td>\n",
       "      <td>NaN</td>\n",
       "      <td>1999-06-23</td>\n",
       "      <td>d.b.</td>\n",
       "      <td>1999-06-24</td>\n",
       "      <td>1999-07-28</td>\n",
       "      <td>21.0</td>\n",
       "    </tr>\n",
       "    <tr>\n",
       "      <th>174</th>\n",
       "      <td>35</td>\n",
       "      <td>NaN</td>\n",
       "      <td>NaT</td>\n",
       "      <td>used/d.b.</td>\n",
       "      <td>1999-06-09</td>\n",
       "      <td>1999-06-23</td>\n",
       "      <td>22.0</td>\n",
       "    </tr>\n",
       "    <tr>\n",
       "      <th>175</th>\n",
       "      <td>35</td>\n",
       "      <td>NaN</td>\n",
       "      <td>1999-05-19</td>\n",
       "      <td>d.b.</td>\n",
       "      <td>1999-05-20</td>\n",
       "      <td>1999-06-08</td>\n",
       "      <td>23.5</td>\n",
       "    </tr>\n",
       "    <tr>\n",
       "      <th>176</th>\n",
       "      <td>34</td>\n",
       "      <td>NaN</td>\n",
       "      <td>NaT</td>\n",
       "      <td>used/d.b.</td>\n",
       "      <td>1999-05-13</td>\n",
       "      <td>1999-05-19</td>\n",
       "      <td>27.0</td>\n",
       "    </tr>\n",
       "    <tr>\n",
       "      <th>177</th>\n",
       "      <td>34</td>\n",
       "      <td>NaN</td>\n",
       "      <td>NaT</td>\n",
       "      <td>used/d.b.</td>\n",
       "      <td>1999-05-10</td>\n",
       "      <td>1999-05-12</td>\n",
       "      <td>29.5</td>\n",
       "    </tr>\n",
       "    <tr>\n",
       "      <th>178</th>\n",
       "      <td>34</td>\n",
       "      <td>NaN</td>\n",
       "      <td>NaT</td>\n",
       "      <td>used/d.b.</td>\n",
       "      <td>1999-04-29</td>\n",
       "      <td>1999-05-07</td>\n",
       "      <td>32.0</td>\n",
       "    </tr>\n",
       "    <tr>\n",
       "      <th>179</th>\n",
       "      <td>34</td>\n",
       "      <td>NaN</td>\n",
       "      <td>1999-04-14</td>\n",
       "      <td>d.b.</td>\n",
       "      <td>1999-04-15</td>\n",
       "      <td>1999-04-28</td>\n",
       "      <td>34.0</td>\n",
       "    </tr>\n",
       "    <tr>\n",
       "      <th>180</th>\n",
       "      <td>33</td>\n",
       "      <td>NaN</td>\n",
       "      <td>NaT</td>\n",
       "      <td>used/d.b.</td>\n",
       "      <td>1999-04-06</td>\n",
       "      <td>1999-04-14</td>\n",
       "      <td>39.5</td>\n",
       "    </tr>\n",
       "    <tr>\n",
       "      <th>181</th>\n",
       "      <td>33</td>\n",
       "      <td>NaN</td>\n",
       "      <td>NaT</td>\n",
       "      <td>used/d.b.</td>\n",
       "      <td>1999-03-25</td>\n",
       "      <td>1999-04-05</td>\n",
       "      <td>42.0</td>\n",
       "    </tr>\n",
       "    <tr>\n",
       "      <th>182</th>\n",
       "      <td>33</td>\n",
       "      <td>NaN</td>\n",
       "      <td>1999-03-04</td>\n",
       "      <td>d.b.</td>\n",
       "      <td>1999-03-05</td>\n",
       "      <td>1999-03-24</td>\n",
       "      <td>45.0</td>\n",
       "    </tr>\n",
       "  </tbody>\n",
       "</table>\n",
       "</div>"
      ],
      "text/plain": [
       "    Meeting   Ex       Date       Bias      Start        End  SETA\n",
       "156      51  NaN 2000-09-20        NaN 2000-09-21 2000-10-18  16.5\n",
       "157      50  NaN 2000-08-23        NaN 2000-08-24 2000-09-20  16.5\n",
       "158      49  NaN 2000-07-19        NaN 2000-07-20 2000-08-23  16.5\n",
       "159      48  NaN        NaT  used/d.b. 2000-07-10 2000-07-19  17.0\n",
       "160      48  NaN 2000-06-20       d.b. 2000-06-21 2000-07-07  17.5\n",
       "161      47  NaN 2000-05-24        NaN 2000-05-25 2000-06-20  18.5\n",
       "162      46  NaN 2000-04-19        NaN 2000-04-20 2000-05-24  18.5\n",
       "163      45  NaN        NaT  used/d.b. 2000-03-29 2000-04-19  18.5\n",
       "164      45  NaN 2000-03-22       d.b. 2000-03-23 2000-03-28  19.0\n",
       "165      44  NaN 2000-02-16        NaN 2000-02-17 2000-03-22  19.0\n",
       "166      43  NaN 2000-01-19        NaN 2000-01-20 2000-02-16  19.0\n",
       "167      42  NaN 1999-12-15        NaN 1999-12-16 2000-01-19  19.0\n",
       "168      41  NaN 1999-11-10        NaN 1999-11-11 1999-12-15  19.0\n",
       "169      40  NaN 1999-10-06       d.b. 1999-10-07 1999-11-10  19.0\n",
       "170      39  NaN 1999-09-22        NaN 1999-09-23 1999-10-06  19.0\n",
       "171      38  NaN 1999-09-01        NaN 1999-09-02 1999-09-22  19.5\n",
       "172      37  NaN 1999-07-28        NaN 1999-07-29 1999-09-01  19.5\n",
       "173      36  NaN 1999-06-23       d.b. 1999-06-24 1999-07-28  21.0\n",
       "174      35  NaN        NaT  used/d.b. 1999-06-09 1999-06-23  22.0\n",
       "175      35  NaN 1999-05-19       d.b. 1999-05-20 1999-06-08  23.5\n",
       "176      34  NaN        NaT  used/d.b. 1999-05-13 1999-05-19  27.0\n",
       "177      34  NaN        NaT  used/d.b. 1999-05-10 1999-05-12  29.5\n",
       "178      34  NaN        NaT  used/d.b. 1999-04-29 1999-05-07  32.0\n",
       "179      34  NaN 1999-04-14       d.b. 1999-04-15 1999-04-28  34.0\n",
       "180      33  NaN        NaT  used/d.b. 1999-04-06 1999-04-14  39.5\n",
       "181      33  NaN        NaT  used/d.b. 1999-03-25 1999-04-05  42.0\n",
       "182      33  NaN 1999-03-04       d.b. 1999-03-05 1999-03-24  45.0"
      ]
     },
     "execution_count": 17,
     "metadata": {},
     "output_type": "execute_result"
    }
   ],
   "source": [
    "dfCOPOM2.loc[156:]"
   ]
  },
  {
   "cell_type": "markdown",
   "metadata": {},
   "source": [
    "## Rows missing date"
   ]
  },
  {
   "cell_type": "code",
   "execution_count": 18,
   "metadata": {
    "scrolled": true
   },
   "outputs": [
    {
     "data": {
      "text/html": [
       "<div>\n",
       "<style>\n",
       "    .dataframe thead tr:only-child th {\n",
       "        text-align: right;\n",
       "    }\n",
       "\n",
       "    .dataframe thead th {\n",
       "        text-align: left;\n",
       "    }\n",
       "\n",
       "    .dataframe tbody tr th {\n",
       "        vertical-align: top;\n",
       "    }\n",
       "</style>\n",
       "<table border=\"1\" class=\"dataframe\">\n",
       "  <thead>\n",
       "    <tr style=\"text-align: right;\">\n",
       "      <th></th>\n",
       "      <th>Meeting</th>\n",
       "      <th>Ex</th>\n",
       "      <th>Date</th>\n",
       "      <th>Bias</th>\n",
       "      <th>Start</th>\n",
       "      <th>End</th>\n",
       "      <th>SETA</th>\n",
       "    </tr>\n",
       "  </thead>\n",
       "  <tbody>\n",
       "    <tr>\n",
       "      <th>159</th>\n",
       "      <td>48</td>\n",
       "      <td>NaN</td>\n",
       "      <td>NaT</td>\n",
       "      <td>used/d.b.</td>\n",
       "      <td>2000-07-10</td>\n",
       "      <td>2000-07-19</td>\n",
       "      <td>17.0</td>\n",
       "    </tr>\n",
       "    <tr>\n",
       "      <th>163</th>\n",
       "      <td>45</td>\n",
       "      <td>NaN</td>\n",
       "      <td>NaT</td>\n",
       "      <td>used/d.b.</td>\n",
       "      <td>2000-03-29</td>\n",
       "      <td>2000-04-19</td>\n",
       "      <td>18.5</td>\n",
       "    </tr>\n",
       "    <tr>\n",
       "      <th>174</th>\n",
       "      <td>35</td>\n",
       "      <td>NaN</td>\n",
       "      <td>NaT</td>\n",
       "      <td>used/d.b.</td>\n",
       "      <td>1999-06-09</td>\n",
       "      <td>1999-06-23</td>\n",
       "      <td>22.0</td>\n",
       "    </tr>\n",
       "    <tr>\n",
       "      <th>176</th>\n",
       "      <td>34</td>\n",
       "      <td>NaN</td>\n",
       "      <td>NaT</td>\n",
       "      <td>used/d.b.</td>\n",
       "      <td>1999-05-13</td>\n",
       "      <td>1999-05-19</td>\n",
       "      <td>27.0</td>\n",
       "    </tr>\n",
       "    <tr>\n",
       "      <th>177</th>\n",
       "      <td>34</td>\n",
       "      <td>NaN</td>\n",
       "      <td>NaT</td>\n",
       "      <td>used/d.b.</td>\n",
       "      <td>1999-05-10</td>\n",
       "      <td>1999-05-12</td>\n",
       "      <td>29.5</td>\n",
       "    </tr>\n",
       "    <tr>\n",
       "      <th>178</th>\n",
       "      <td>34</td>\n",
       "      <td>NaN</td>\n",
       "      <td>NaT</td>\n",
       "      <td>used/d.b.</td>\n",
       "      <td>1999-04-29</td>\n",
       "      <td>1999-05-07</td>\n",
       "      <td>32.0</td>\n",
       "    </tr>\n",
       "    <tr>\n",
       "      <th>180</th>\n",
       "      <td>33</td>\n",
       "      <td>NaN</td>\n",
       "      <td>NaT</td>\n",
       "      <td>used/d.b.</td>\n",
       "      <td>1999-04-06</td>\n",
       "      <td>1999-04-14</td>\n",
       "      <td>39.5</td>\n",
       "    </tr>\n",
       "    <tr>\n",
       "      <th>181</th>\n",
       "      <td>33</td>\n",
       "      <td>NaN</td>\n",
       "      <td>NaT</td>\n",
       "      <td>used/d.b.</td>\n",
       "      <td>1999-03-25</td>\n",
       "      <td>1999-04-05</td>\n",
       "      <td>42.0</td>\n",
       "    </tr>\n",
       "  </tbody>\n",
       "</table>\n",
       "</div>"
      ],
      "text/plain": [
       "    Meeting   Ex Date       Bias      Start        End  SETA\n",
       "159      48  NaN  NaT  used/d.b. 2000-07-10 2000-07-19  17.0\n",
       "163      45  NaN  NaT  used/d.b. 2000-03-29 2000-04-19  18.5\n",
       "174      35  NaN  NaT  used/d.b. 1999-06-09 1999-06-23  22.0\n",
       "176      34  NaN  NaT  used/d.b. 1999-05-13 1999-05-19  27.0\n",
       "177      34  NaN  NaT  used/d.b. 1999-05-10 1999-05-12  29.5\n",
       "178      34  NaN  NaT  used/d.b. 1999-04-29 1999-05-07  32.0\n",
       "180      33  NaN  NaT  used/d.b. 1999-04-06 1999-04-14  39.5\n",
       "181      33  NaN  NaT  used/d.b. 1999-03-25 1999-04-05  42.0"
      ]
     },
     "execution_count": 18,
     "metadata": {},
     "output_type": "execute_result"
    }
   ],
   "source": [
    "dfCOPOM2[dfCOPOM2['Date'].isnull()]"
   ]
  },
  {
   "cell_type": "code",
   "execution_count": 19,
   "metadata": {},
   "outputs": [
    {
     "data": {
      "text/plain": [
       "array([nan, 'u.b.', 'd.b.', 'used/d.b.'], dtype=object)"
      ]
     },
     "execution_count": 19,
     "metadata": {},
     "output_type": "execute_result"
    }
   ],
   "source": [
    "dfCOPOM2['Bias'].unique()"
   ]
  },
  {
   "cell_type": "code",
   "execution_count": 20,
   "metadata": {
    "scrolled": true
   },
   "outputs": [
    {
     "data": {
      "text/html": [
       "<div>\n",
       "<style>\n",
       "    .dataframe thead tr:only-child th {\n",
       "        text-align: right;\n",
       "    }\n",
       "\n",
       "    .dataframe thead th {\n",
       "        text-align: left;\n",
       "    }\n",
       "\n",
       "    .dataframe tbody tr th {\n",
       "        vertical-align: top;\n",
       "    }\n",
       "</style>\n",
       "<table border=\"1\" class=\"dataframe\">\n",
       "  <thead>\n",
       "    <tr style=\"text-align: right;\">\n",
       "      <th></th>\n",
       "      <th>Meeting</th>\n",
       "      <th>Ex</th>\n",
       "      <th>Date</th>\n",
       "      <th>Bias</th>\n",
       "      <th>Start</th>\n",
       "      <th>End</th>\n",
       "      <th>SETA</th>\n",
       "    </tr>\n",
       "  </thead>\n",
       "  <tbody>\n",
       "    <tr>\n",
       "      <th>159</th>\n",
       "      <td>48</td>\n",
       "      <td>NaN</td>\n",
       "      <td>NaT</td>\n",
       "      <td>used/d.b.</td>\n",
       "      <td>2000-07-10</td>\n",
       "      <td>2000-07-19</td>\n",
       "      <td>17.0</td>\n",
       "    </tr>\n",
       "    <tr>\n",
       "      <th>163</th>\n",
       "      <td>45</td>\n",
       "      <td>NaN</td>\n",
       "      <td>NaT</td>\n",
       "      <td>used/d.b.</td>\n",
       "      <td>2000-03-29</td>\n",
       "      <td>2000-04-19</td>\n",
       "      <td>18.5</td>\n",
       "    </tr>\n",
       "    <tr>\n",
       "      <th>174</th>\n",
       "      <td>35</td>\n",
       "      <td>NaN</td>\n",
       "      <td>NaT</td>\n",
       "      <td>used/d.b.</td>\n",
       "      <td>1999-06-09</td>\n",
       "      <td>1999-06-23</td>\n",
       "      <td>22.0</td>\n",
       "    </tr>\n",
       "    <tr>\n",
       "      <th>176</th>\n",
       "      <td>34</td>\n",
       "      <td>NaN</td>\n",
       "      <td>NaT</td>\n",
       "      <td>used/d.b.</td>\n",
       "      <td>1999-05-13</td>\n",
       "      <td>1999-05-19</td>\n",
       "      <td>27.0</td>\n",
       "    </tr>\n",
       "    <tr>\n",
       "      <th>177</th>\n",
       "      <td>34</td>\n",
       "      <td>NaN</td>\n",
       "      <td>NaT</td>\n",
       "      <td>used/d.b.</td>\n",
       "      <td>1999-05-10</td>\n",
       "      <td>1999-05-12</td>\n",
       "      <td>29.5</td>\n",
       "    </tr>\n",
       "    <tr>\n",
       "      <th>178</th>\n",
       "      <td>34</td>\n",
       "      <td>NaN</td>\n",
       "      <td>NaT</td>\n",
       "      <td>used/d.b.</td>\n",
       "      <td>1999-04-29</td>\n",
       "      <td>1999-05-07</td>\n",
       "      <td>32.0</td>\n",
       "    </tr>\n",
       "    <tr>\n",
       "      <th>180</th>\n",
       "      <td>33</td>\n",
       "      <td>NaN</td>\n",
       "      <td>NaT</td>\n",
       "      <td>used/d.b.</td>\n",
       "      <td>1999-04-06</td>\n",
       "      <td>1999-04-14</td>\n",
       "      <td>39.5</td>\n",
       "    </tr>\n",
       "    <tr>\n",
       "      <th>181</th>\n",
       "      <td>33</td>\n",
       "      <td>NaN</td>\n",
       "      <td>NaT</td>\n",
       "      <td>used/d.b.</td>\n",
       "      <td>1999-03-25</td>\n",
       "      <td>1999-04-05</td>\n",
       "      <td>42.0</td>\n",
       "    </tr>\n",
       "  </tbody>\n",
       "</table>\n",
       "</div>"
      ],
      "text/plain": [
       "    Meeting   Ex Date       Bias      Start        End  SETA\n",
       "159      48  NaN  NaT  used/d.b. 2000-07-10 2000-07-19  17.0\n",
       "163      45  NaN  NaT  used/d.b. 2000-03-29 2000-04-19  18.5\n",
       "174      35  NaN  NaT  used/d.b. 1999-06-09 1999-06-23  22.0\n",
       "176      34  NaN  NaT  used/d.b. 1999-05-13 1999-05-19  27.0\n",
       "177      34  NaN  NaT  used/d.b. 1999-05-10 1999-05-12  29.5\n",
       "178      34  NaN  NaT  used/d.b. 1999-04-29 1999-05-07  32.0\n",
       "180      33  NaN  NaT  used/d.b. 1999-04-06 1999-04-14  39.5\n",
       "181      33  NaN  NaT  used/d.b. 1999-03-25 1999-04-05  42.0"
      ]
     },
     "execution_count": 20,
     "metadata": {},
     "output_type": "execute_result"
    }
   ],
   "source": [
    "dfCOPOM2[dfCOPOM2['Bias']=='used/d.b.']"
   ]
  },
  {
   "cell_type": "markdown",
   "metadata": {},
   "source": [
    "They all are uses of the bias. Let's use the 'Start' column to fill the dates for the uses of the bias."
   ]
  },
  {
   "cell_type": "code",
   "execution_count": 21,
   "metadata": {
    "collapsed": true
   },
   "outputs": [],
   "source": [
    "dfCOPOM2['Date'] = dfCOPOM2['Date'].fillna(dfCOPOM2['Start'])"
   ]
  },
  {
   "cell_type": "markdown",
   "metadata": {},
   "source": [
    "## Reordering"
   ]
  },
  {
   "cell_type": "code",
   "execution_count": 22,
   "metadata": {},
   "outputs": [],
   "source": [
    "dfCOPOM2.sort_values('Date',inplace=True)"
   ]
  },
  {
   "cell_type": "code",
   "execution_count": 23,
   "metadata": {},
   "outputs": [],
   "source": [
    "dfCOPOM2.set_index('Date',inplace=True)"
   ]
  },
  {
   "cell_type": "code",
   "execution_count": 24,
   "metadata": {},
   "outputs": [
    {
     "data": {
      "text/html": [
       "<div>\n",
       "<style>\n",
       "    .dataframe thead tr:only-child th {\n",
       "        text-align: right;\n",
       "    }\n",
       "\n",
       "    .dataframe thead th {\n",
       "        text-align: left;\n",
       "    }\n",
       "\n",
       "    .dataframe tbody tr th {\n",
       "        vertical-align: top;\n",
       "    }\n",
       "</style>\n",
       "<table border=\"1\" class=\"dataframe\">\n",
       "  <thead>\n",
       "    <tr style=\"text-align: right;\">\n",
       "      <th></th>\n",
       "      <th>Meeting</th>\n",
       "      <th>Ex</th>\n",
       "      <th>Bias</th>\n",
       "      <th>Start</th>\n",
       "      <th>End</th>\n",
       "      <th>SETA</th>\n",
       "    </tr>\n",
       "    <tr>\n",
       "      <th>Date</th>\n",
       "      <th></th>\n",
       "      <th></th>\n",
       "      <th></th>\n",
       "      <th></th>\n",
       "      <th></th>\n",
       "      <th></th>\n",
       "    </tr>\n",
       "  </thead>\n",
       "  <tbody>\n",
       "    <tr>\n",
       "      <th>1999-03-04</th>\n",
       "      <td>33</td>\n",
       "      <td>NaN</td>\n",
       "      <td>d.b.</td>\n",
       "      <td>1999-03-05</td>\n",
       "      <td>1999-03-24</td>\n",
       "      <td>45.0</td>\n",
       "    </tr>\n",
       "    <tr>\n",
       "      <th>1999-03-25</th>\n",
       "      <td>33</td>\n",
       "      <td>NaN</td>\n",
       "      <td>used/d.b.</td>\n",
       "      <td>1999-03-25</td>\n",
       "      <td>1999-04-05</td>\n",
       "      <td>42.0</td>\n",
       "    </tr>\n",
       "    <tr>\n",
       "      <th>1999-04-06</th>\n",
       "      <td>33</td>\n",
       "      <td>NaN</td>\n",
       "      <td>used/d.b.</td>\n",
       "      <td>1999-04-06</td>\n",
       "      <td>1999-04-14</td>\n",
       "      <td>39.5</td>\n",
       "    </tr>\n",
       "    <tr>\n",
       "      <th>1999-04-14</th>\n",
       "      <td>34</td>\n",
       "      <td>NaN</td>\n",
       "      <td>d.b.</td>\n",
       "      <td>1999-04-15</td>\n",
       "      <td>1999-04-28</td>\n",
       "      <td>34.0</td>\n",
       "    </tr>\n",
       "    <tr>\n",
       "      <th>1999-04-29</th>\n",
       "      <td>34</td>\n",
       "      <td>NaN</td>\n",
       "      <td>used/d.b.</td>\n",
       "      <td>1999-04-29</td>\n",
       "      <td>1999-05-07</td>\n",
       "      <td>32.0</td>\n",
       "    </tr>\n",
       "  </tbody>\n",
       "</table>\n",
       "</div>"
      ],
      "text/plain": [
       "           Meeting   Ex       Bias      Start        End  SETA\n",
       "Date                                                          \n",
       "1999-03-04      33  NaN       d.b. 1999-03-05 1999-03-24  45.0\n",
       "1999-03-25      33  NaN  used/d.b. 1999-03-25 1999-04-05  42.0\n",
       "1999-04-06      33  NaN  used/d.b. 1999-04-06 1999-04-14  39.5\n",
       "1999-04-14      34  NaN       d.b. 1999-04-15 1999-04-28  34.0\n",
       "1999-04-29      34  NaN  used/d.b. 1999-04-29 1999-05-07  32.0"
      ]
     },
     "execution_count": 24,
     "metadata": {},
     "output_type": "execute_result"
    }
   ],
   "source": [
    "dfCOPOM2.head()"
   ]
  },
  {
   "cell_type": "code",
   "execution_count": 25,
   "metadata": {},
   "outputs": [
    {
     "data": {
      "text/html": [
       "<div>\n",
       "<style>\n",
       "    .dataframe thead tr:only-child th {\n",
       "        text-align: right;\n",
       "    }\n",
       "\n",
       "    .dataframe thead th {\n",
       "        text-align: left;\n",
       "    }\n",
       "\n",
       "    .dataframe tbody tr th {\n",
       "        vertical-align: top;\n",
       "    }\n",
       "</style>\n",
       "<table border=\"1\" class=\"dataframe\">\n",
       "  <thead>\n",
       "    <tr style=\"text-align: right;\">\n",
       "      <th></th>\n",
       "      <th>Meeting</th>\n",
       "      <th>Ex</th>\n",
       "      <th>Bias</th>\n",
       "      <th>Start</th>\n",
       "      <th>End</th>\n",
       "      <th>SETA</th>\n",
       "    </tr>\n",
       "    <tr>\n",
       "      <th>Date</th>\n",
       "      <th></th>\n",
       "      <th></th>\n",
       "      <th></th>\n",
       "      <th></th>\n",
       "      <th></th>\n",
       "      <th></th>\n",
       "    </tr>\n",
       "  </thead>\n",
       "  <tbody>\n",
       "    <tr>\n",
       "      <th>2016-11-30</th>\n",
       "      <td>203</td>\n",
       "      <td>NaN</td>\n",
       "      <td>NaN</td>\n",
       "      <td>2016-12-01</td>\n",
       "      <td>2017-01-11</td>\n",
       "      <td>13.75</td>\n",
       "    </tr>\n",
       "    <tr>\n",
       "      <th>2017-01-11</th>\n",
       "      <td>204</td>\n",
       "      <td>NaN</td>\n",
       "      <td>NaN</td>\n",
       "      <td>2017-01-12</td>\n",
       "      <td>2017-02-22</td>\n",
       "      <td>13.00</td>\n",
       "    </tr>\n",
       "    <tr>\n",
       "      <th>2017-02-22</th>\n",
       "      <td>205</td>\n",
       "      <td>NaN</td>\n",
       "      <td>NaN</td>\n",
       "      <td>2017-02-23</td>\n",
       "      <td>2017-04-12</td>\n",
       "      <td>12.25</td>\n",
       "    </tr>\n",
       "    <tr>\n",
       "      <th>2017-04-12</th>\n",
       "      <td>206</td>\n",
       "      <td>NaN</td>\n",
       "      <td>NaN</td>\n",
       "      <td>2017-04-13</td>\n",
       "      <td>2017-05-31</td>\n",
       "      <td>11.25</td>\n",
       "    </tr>\n",
       "    <tr>\n",
       "      <th>2017-05-31</th>\n",
       "      <td>207</td>\n",
       "      <td>NaN</td>\n",
       "      <td>NaN</td>\n",
       "      <td>2017-06-01</td>\n",
       "      <td>NaT</td>\n",
       "      <td>10.25</td>\n",
       "    </tr>\n",
       "  </tbody>\n",
       "</table>\n",
       "</div>"
      ],
      "text/plain": [
       "           Meeting   Ex Bias      Start        End   SETA\n",
       "Date                                                     \n",
       "2016-11-30     203  NaN  NaN 2016-12-01 2017-01-11  13.75\n",
       "2017-01-11     204  NaN  NaN 2017-01-12 2017-02-22  13.00\n",
       "2017-02-22     205  NaN  NaN 2017-02-23 2017-04-12  12.25\n",
       "2017-04-12     206  NaN  NaN 2017-04-13 2017-05-31  11.25\n",
       "2017-05-31     207  NaN  NaN 2017-06-01        NaT  10.25"
      ]
     },
     "execution_count": 25,
     "metadata": {},
     "output_type": "execute_result"
    }
   ],
   "source": [
    "dfCOPOM2.tail()"
   ]
  },
  {
   "cell_type": "markdown",
   "metadata": {},
   "source": [
    "## Exploring"
   ]
  },
  {
   "cell_type": "markdown",
   "metadata": {},
   "source": [
    "Plotting the SELIC Target:"
   ]
  },
  {
   "cell_type": "code",
   "execution_count": 26,
   "metadata": {},
   "outputs": [
    {
     "data": {
      "image/png": "[encoded data removed]",
      "text/plain": [
       "<matplotlib.figure.Figure at 0x11b46c400>"
      ]
     },
     "metadata": {},
     "output_type": "display_data"
    }
   ],
   "source": [
    "dfCOPOM2['SETA'].plot(figsize=(12,9),marker='.',linestyle='None',\n",
    "    color='blue',clip_on=False,title='SELIC Target');\n",
    "plt.ylabel('SETA (%)');\n",
    "plt.axhline(0,color='gray');"
   ]
  },
  {
   "cell_type": "markdown",
   "metadata": {
    "collapsed": true
   },
   "source": [
    "And also plot the changes in the SELIC Target:"
   ]
  },
  {
   "cell_type": "code",
   "execution_count": 27,
   "metadata": {},
   "outputs": [
    {
     "data": {
      "image/png": "[encoded data removed]",
      "text/plain": [
       "<matplotlib.figure.Figure at 0x11e858048>"
      ]
     },
     "metadata": {},
     "output_type": "display_data"
    }
   ],
   "source": [
    "(dfCOPOM2['SETA'].diff()).plot(figsize=(12,9),marker='o',linestyle='--',\n",
    "    color='blue',clip_on=False,title='SELIC Target changes');\n",
    "plt.ylabel('SETA changes (%)');\n",
    "plt.axhline(0,color='gray');"
   ]
  },
  {
   "cell_type": "markdown",
   "metadata": {},
   "source": [
    "We observe that almost always sign changes \"stop\" at zero - except in 2011 (31-Aug)."
   ]
  },
  {
   "cell_type": "markdown",
   "metadata": {
    "collapsed": true
   },
   "source": [
    "Plotting the changes of the changes:"
   ]
  },
  {
   "cell_type": "code",
   "execution_count": 28,
   "metadata": {},
   "outputs": [
    {
     "data": {
      "image/png": "[encoded data removed]",
      "text/plain": [
       "<matplotlib.figure.Figure at 0x11eb076a0>"
      ]
     },
     "metadata": {},
     "output_type": "display_data"
    }
   ],
   "source": [
    "((dfCOPOM2['SETA'].diff()).diff()).plot(figsize=(12,12),marker='o',\n",
    "    linestyle='--',color='blue',clip_on=False,\n",
    "    title='Changes of SELIC Target changes');\n",
    "plt.ylabel('Changes of SETA changes (%)');\n",
    "plt.axhline(0,color='gray');"
   ]
  },
  {
   "cell_type": "markdown",
   "metadata": {},
   "source": [
    "From 2004 onward:"
   ]
  },
  {
   "cell_type": "code",
   "execution_count": 29,
   "metadata": {},
   "outputs": [
    {
     "data": {
      "image/png": "[encoded data removed]",
      "text/plain": [
       "<matplotlib.figure.Figure at 0x11eed0e80>"
      ]
     },
     "metadata": {},
     "output_type": "display_data"
    }
   ],
   "source": [
    "((dfCOPOM2['SETA'].loc['2004':].diff()).diff()).plot(figsize=(9,9),marker='o',\n",
    "    linestyle='--',color='blue',clip_on=False,\n",
    "    title='Changes of SELIC Target changes from 2004 onward');\n",
    "plt.ylabel('Changes of SETA changes (%) from 2004 onward');\n",
    "plt.axhline(0,color='gray');"
   ]
  },
  {
   "cell_type": "code",
   "execution_count": 30,
   "metadata": {},
   "outputs": [
    {
     "data": {
      "image/png": "[encoded data removed]",
      "text/plain": [
       "<matplotlib.figure.Figure at 0x11f252828>"
      ]
     },
     "metadata": {},
     "output_type": "display_data"
    }
   ],
   "source": [
    "d2b=np.arange(-1.125,1.125,0.25)\n",
    "((dfCOPOM2['SETA'].loc['2004':].diff()).diff()).plot(figsize=(12,6),\n",
    "    kind='hist',bins=d2b,color='blue',\n",
    "    title='Histogram of the changes of SELIC Target changes from 2004 onward');"
   ]
  },
  {
   "cell_type": "code",
   "execution_count": 345,
   "metadata": {},
   "outputs": [
    {
     "data": {
      "image/png": "[encoded data removed]",
      "text/plain": [
       "<matplotlib.figure.Figure at 0x1209d12e8>"
      ]
     },
     "metadata": {},
     "output_type": "display_data"
    }
   ],
   "source": [
    "((dfCOPOM2['SETA'].loc['2004':].diff()).diff()).hist(figsize=(12,6),bins=d2b,\n",
    "    normed=True,cumulative=True,color='blue');\n",
    "plt.title('Cumulative histogram of the changes of SELIC Target changes from 2004 onward');"
   ]
  },
  {
   "cell_type": "markdown",
   "metadata": {},
   "source": [
    "So most of the time (in more than 60% of the meetings) there's no change in the rhythm of the changes."
   ]
  },
  {
   "cell_type": "code",
   "execution_count": 32,
   "metadata": {
    "collapsed": true
   },
   "outputs": [],
   "source": [
    "x=dfCOPOM2['SETA'].diff().values\n",
    "y=dfCOPOM2['SETA'].diff().shift().values\n",
    "dfxy=pd.DataFrame({'Changes':x,'Next Changes':y})"
   ]
  },
  {
   "cell_type": "code",
   "execution_count": 33,
   "metadata": {},
   "outputs": [
    {
     "data": {
      "image/png": "[encoded data removed]",
      "text/plain": [
       "<matplotlib.figure.Figure at 0x11f4b35c0>"
      ]
     },
     "metadata": {},
     "output_type": "display_data"
    }
   ],
   "source": [
    "dfxy.plot.scatter('Changes','Next Changes',figsize=(9,9),color='blue');\n",
    "plt.title('Changes of SELIC Target vs next changes of SELIC Target (%)');\n",
    "plt.axhline(0,color='gray');\n",
    "plt.axvline(0,color='gray');"
   ]
  },
  {
   "cell_type": "code",
   "execution_count": 356,
   "metadata": {},
   "outputs": [
    {
     "data": {
      "image/png": "[encoded data removed]",
      "text/plain": [
       "<matplotlib.figure.Figure at 0x121652860>"
      ]
     },
     "metadata": {},
     "output_type": "display_data"
    }
   ],
   "source": [
    "plt.figure(figsize=(12,9));\n",
    "plt.title('Autocorrelation of SETA changes')\n",
    "plt.acorr(dfCOPOM2['SETA'].diff().dropna(),color='blue');"
   ]
  },
  {
   "cell_type": "markdown",
   "metadata": {},
   "source": [
    "## Plots by BCB president"
   ]
  },
  {
   "cell_type": "code",
   "execution_count": 34,
   "metadata": {
    "collapsed": true
   },
   "outputs": [],
   "source": [
    "fraga=pd.date_range('1999-03-04','2002-12-31')\n",
    "meirelles=pd.date_range('2003-01-01','2010-12-31')\n",
    "tombini=pd.date_range('2011-01-01','2016-08-06')\n",
    "goldfajn=pd.date_range('2016-08-07','2017-12-31')"
   ]
  },
  {
   "cell_type": "code",
   "execution_count": 35,
   "metadata": {},
   "outputs": [
    {
     "data": {
      "image/png": "[encoded data removed]",
      "text/plain": [
       "<matplotlib.figure.Figure at 0x11f6918d0>"
      ]
     },
     "metadata": {},
     "output_type": "display_data"
    }
   ],
   "source": [
    "(dfCOPOM2['SETA'].diff()).plot(figsize=(12,9),marker='o',linestyle='None',\n",
    "    color='blue',clip_on=False,\n",
    "    title='SELIC Target changes');\n",
    "plt.ylabel('SETA changes (%)');\n",
    "plt.axhline(0,color='gray');"
   ]
  },
  {
   "cell_type": "code",
   "execution_count": 36,
   "metadata": {},
   "outputs": [
    {
     "data": {
      "image/png": "[encoded data removed]",
      "text/plain": [
       "<matplotlib.figure.Figure at 0x11f852908>"
      ]
     },
     "metadata": {},
     "output_type": "display_data"
    }
   ],
   "source": [
    "(dfCOPOM2['SETA'].diff()[dfCOPOM2.index.isin(fraga)]).plot(figsize=(12,9),\n",
    "    marker='o',linestyle='None',color='blue',clip_on=False,\n",
    "    title='SELIC Target changes - Fraga');\n",
    "plt.ylabel('SETA changes (%)');\n",
    "plt.axhline(0,color='gray');"
   ]
  },
  {
   "cell_type": "code",
   "execution_count": 37,
   "metadata": {},
   "outputs": [
    {
     "data": {
      "image/png": "[encoded data removed]",
      "text/plain": [
       "<matplotlib.figure.Figure at 0x11f6e4400>"
      ]
     },
     "metadata": {},
     "output_type": "display_data"
    }
   ],
   "source": [
    "(dfCOPOM2['SETA'].diff()[dfCOPOM2.index.isin(meirelles)]).plot(figsize=(12,9),\n",
    "    marker='o',linestyle='None',color='blue',clip_on=False,\n",
    "    title='SELIC Target changes - Meirelles');\n",
    "plt.ylabel('SETA changes (%)');\n",
    "plt.axhline(0,color='gray');"
   ]
  },
  {
   "cell_type": "code",
   "execution_count": 38,
   "metadata": {},
   "outputs": [
    {
     "data": {
      "image/png": "[encoded data removed]",
      "text/plain": [
       "<matplotlib.figure.Figure at 0x11f2b7c50>"
      ]
     },
     "metadata": {},
     "output_type": "display_data"
    }
   ],
   "source": [
    "(dfCOPOM2['SETA'].diff()[dfCOPOM2.index.isin(tombini)]).plot(figsize=(12,9),\n",
    "    marker='o',linestyle='None',color='blue',clip_on=False,\n",
    "    title='SELIC Target changes - Tombini');\n",
    "plt.ylabel('SETA changes (%)');\n",
    "plt.axhline(0,color='gray');"
   ]
  },
  {
   "cell_type": "code",
   "execution_count": 39,
   "metadata": {},
   "outputs": [
    {
     "data": {
      "image/png": "[encoded data removed]",
      "text/plain": [
       "<matplotlib.figure.Figure at 0x11eeb4518>"
      ]
     },
     "metadata": {},
     "output_type": "display_data"
    }
   ],
   "source": [
    "(dfCOPOM2['SETA'].diff()[dfCOPOM2.index.isin(goldfajn)]).plot(figsize=(12,9),\n",
    "    marker='o',linestyle='None',color='blue',clip_on=False,\n",
    "    title='SELIC Target changes - Goldfajn');\n",
    "plt.ylabel('SETA changes (%)');\n",
    "plt.axhline(0,color='gray');"
   ]
  },
  {
   "cell_type": "markdown",
   "metadata": {},
   "source": [
    "## COPOM statements"
   ]
  },
  {
   "cell_type": "code",
   "execution_count": 40,
   "metadata": {},
   "outputs": [
    {
     "data": {
      "text/html": [
       "<div>\n",
       "<style>\n",
       "    .dataframe thead tr:only-child th {\n",
       "        text-align: right;\n",
       "    }\n",
       "\n",
       "    .dataframe thead th {\n",
       "        text-align: left;\n",
       "    }\n",
       "\n",
       "    .dataframe tbody tr th {\n",
       "        vertical-align: top;\n",
       "    }\n",
       "</style>\n",
       "<table border=\"1\" class=\"dataframe\">\n",
       "  <thead>\n",
       "    <tr style=\"text-align: right;\">\n",
       "      <th></th>\n",
       "      <th>Meeting</th>\n",
       "      <th>Ex</th>\n",
       "      <th>Date</th>\n",
       "      <th>Bias</th>\n",
       "      <th>Start</th>\n",
       "      <th>End</th>\n",
       "      <th>SETA</th>\n",
       "      <th>TBAN</th>\n",
       "      <th>SELICef</th>\n",
       "      <th>SELICpy</th>\n",
       "    </tr>\n",
       "  </thead>\n",
       "  <tbody>\n",
       "    <tr>\n",
       "      <th>0</th>\n",
       "      <td>207</td>\n",
       "      <td>NaN</td>\n",
       "      <td>2017-05-31</td>\n",
       "      <td>NaN</td>\n",
       "      <td>2017-06-01</td>\n",
       "      <td>NaT</td>\n",
       "      <td>10.25</td>\n",
       "      <td>NaN</td>\n",
       "      <td>NaN</td>\n",
       "      <td>NaN</td>\n",
       "    </tr>\n",
       "    <tr>\n",
       "      <th>1</th>\n",
       "      <td>206</td>\n",
       "      <td>NaN</td>\n",
       "      <td>2017-04-12</td>\n",
       "      <td>NaN</td>\n",
       "      <td>2017-04-13</td>\n",
       "      <td>2017-05-31</td>\n",
       "      <td>11.25</td>\n",
       "      <td>NaN</td>\n",
       "      <td>NaN</td>\n",
       "      <td>NaN</td>\n",
       "    </tr>\n",
       "    <tr>\n",
       "      <th>2</th>\n",
       "      <td>205</td>\n",
       "      <td>NaN</td>\n",
       "      <td>2017-02-22</td>\n",
       "      <td>NaN</td>\n",
       "      <td>2017-02-23</td>\n",
       "      <td>2017-04-12</td>\n",
       "      <td>12.25</td>\n",
       "      <td>NaN</td>\n",
       "      <td>1.51</td>\n",
       "      <td>12.15</td>\n",
       "    </tr>\n",
       "    <tr>\n",
       "      <th>3</th>\n",
       "      <td>204</td>\n",
       "      <td>NaN</td>\n",
       "      <td>2017-01-11</td>\n",
       "      <td>NaN</td>\n",
       "      <td>2017-01-12</td>\n",
       "      <td>2017-02-22</td>\n",
       "      <td>13.00</td>\n",
       "      <td>NaN</td>\n",
       "      <td>1.45</td>\n",
       "      <td>12.90</td>\n",
       "    </tr>\n",
       "    <tr>\n",
       "      <th>4</th>\n",
       "      <td>203</td>\n",
       "      <td>NaN</td>\n",
       "      <td>2016-11-30</td>\n",
       "      <td>NaN</td>\n",
       "      <td>2016-12-01</td>\n",
       "      <td>2017-01-11</td>\n",
       "      <td>13.75</td>\n",
       "      <td>NaN</td>\n",
       "      <td>1.53</td>\n",
       "      <td>13.65</td>\n",
       "    </tr>\n",
       "  </tbody>\n",
       "</table>\n",
       "</div>"
      ],
      "text/plain": [
       "  Meeting   Ex       Date Bias      Start        End   SETA  TBAN  SELICef  \\\n",
       "0     207  NaN 2017-05-31  NaN 2017-06-01        NaT  10.25   NaN      NaN   \n",
       "1     206  NaN 2017-04-12  NaN 2017-04-13 2017-05-31  11.25   NaN      NaN   \n",
       "2     205  NaN 2017-02-22  NaN 2017-02-23 2017-04-12  12.25   NaN     1.51   \n",
       "3     204  NaN 2017-01-11  NaN 2017-01-12 2017-02-22  13.00   NaN     1.45   \n",
       "4     203  NaN 2016-11-30  NaN 2016-12-01 2017-01-11  13.75   NaN     1.53   \n",
       "\n",
       "   SELICpy  \n",
       "0      NaN  \n",
       "1      NaN  \n",
       "2    12.15  \n",
       "3    12.90  \n",
       "4    13.65  "
      ]
     },
     "execution_count": 40,
     "metadata": {},
     "output_type": "execute_result"
    }
   ],
   "source": [
    "dfCOPOM.head()"
   ]
  },
  {
   "cell_type": "code",
   "execution_count": 114,
   "metadata": {},
   "outputs": [
    {
     "data": {
      "text/plain": [
       "207"
      ]
     },
     "execution_count": 114,
     "metadata": {},
     "output_type": "execute_result"
    }
   ],
   "source": [
    "lstmeet=int(dfCOPOM['Meeting'][0])\n",
    "lstmeet"
   ]
  },
  {
   "cell_type": "code",
   "execution_count": 82,
   "metadata": {},
   "outputs": [],
   "source": [
    "def clrn(x):\n",
    "    if type(x)==str:\n",
    "        return re.sub('\\r\\n','',x)\n",
    "    else:\n",
    "        return x"
   ]
  },
  {
   "cell_type": "code",
   "execution_count": 84,
   "metadata": {
    "collapsed": true
   },
   "outputs": [],
   "source": [
    "def decistext(n):\n",
    "    urld = 'http://www.bcb.gov.br/?NOTACOPOM' + str(n).zfill(3)\n",
    "    paged = requests.get(urld)\n",
    "    soupd = bs4.BeautifulSoup(paged.text,\"lxml\")\n",
    "    tagd = soupd.findAll('p')\n",
    "    textd = [clrn(bstag.text) for bstag in tagd]\n",
    "    return textd"
   ]
  },
  {
   "cell_type": "code",
   "execution_count": 162,
   "metadata": {
    "collapsed": true
   },
   "outputs": [],
   "source": [
    "def decistext2(urld):\n",
    "    paged = open(urld).read\n",
    "    soupd = bs4.BeautifulSoup(paged,'html')\n",
    "    tagd = soupd.findAll('p')\n",
    "    textd = [clrn(bstag.text) for bstag in tagd]\n",
    "    return textd"
   ]
  },
  {
   "cell_type": "code",
   "execution_count": 42,
   "metadata": {},
   "outputs": [],
   "source": [
    "meetlist2003 = np.arange(80, 202)"
   ]
  },
  {
   "cell_type": "code",
   "execution_count": 115,
   "metadata": {
    "collapsed": true
   },
   "outputs": [],
   "source": [
    "meetlist2003all = np.arange(80, lstmeet+1)"
   ]
  },
  {
   "cell_type": "code",
   "execution_count": 123,
   "metadata": {
    "collapsed": true
   },
   "outputs": [],
   "source": [
    "textdecis = []\n",
    "for n in meetlist2003:\n",
    "    textdecis = textdecis + [decistext(n)]"
   ]
  },
  {
   "cell_type": "code",
   "execution_count": 128,
   "metadata": {
    "collapsed": true
   },
   "outputs": [],
   "source": [
    "ilanmeet=[\n",
    "    'http://www.bcb.gov.br/pt-br/#!/c/COPOMCOMUNICADOS/15966',\n",
    "    'http://www.bcb.gov.br/pt-br/#!/c/COPOMCOMUNICADOS/16023',\n",
    "    'http://www.bcb.gov.br/pt-br/#!/c/COPOMCOMUNICADOS/16054',\n",
    "    'http://www.bcb.gov.br/pt-br/#!/c/COPOMCOMUNICADOS/16088',\n",
    "    'http://www.bcb.gov.br/pt-br/#!/c/COPOMCOMUNICADOS/16130',\n",
    "    'http://www.bcb.gov.br/pt-br/#!/c/COPOMCOMUNICADOS/16180']"
   ]
  },
  {
   "cell_type": "code",
   "execution_count": 219,
   "metadata": {
    "collapsed": true
   },
   "outputs": [],
   "source": [
    "newmeet=['COPOM202.docx','COPOM203.docx','COPOM204.docx',\n",
    "        'COPOM205.docx','COPOM206.docx','COPOM207.docx']"
   ]
  },
  {
   "cell_type": "code",
   "execution_count": 215,
   "metadata": {
    "collapsed": true
   },
   "outputs": [],
   "source": [
    "def getText(filename):\n",
    "    doc = docx.Document(filename)\n",
    "    fullText = []\n",
    "    for para in doc.paragraphs:\n",
    "        fullText=fullText+[para.text]\n",
    "    return list(filter(lambda x: x != '', fullText))"
   ]
  },
  {
   "cell_type": "code",
   "execution_count": 258,
   "metadata": {},
   "outputs": [],
   "source": [
    "textdecis2=[]\n",
    "for m in newmeet:\n",
    "    textdecis2 = textdecis2 + [getText(m)]"
   ]
  },
  {
   "cell_type": "code",
   "execution_count": 259,
   "metadata": {},
   "outputs": [],
   "source": [
    "dfdecis=pd.DataFrame(textdecis+textdecis2,index=meetlist2003all)"
   ]
  },
  {
   "cell_type": "code",
   "execution_count": 260,
   "metadata": {
    "collapsed": true
   },
   "outputs": [],
   "source": [
    "lendecis=pd.Series([len(t) for t in textdecis+textdecis2],index=meetlist2003all)"
   ]
  },
  {
   "cell_type": "code",
   "execution_count": 261,
   "metadata": {},
   "outputs": [
    {
     "data": {
      "text/plain": [
       "<matplotlib.axes._subplots.AxesSubplot at 0x11f6ecac8>"
      ]
     },
     "execution_count": 261,
     "metadata": {},
     "output_type": "execute_result"
    },
    {
     "data": {
      "image/png": "[encoded data removed]",
      "text/plain": [
       "<matplotlib.figure.Figure at 0x120465860>"
      ]
     },
     "metadata": {},
     "output_type": "display_data"
    }
   ],
   "source": [
    "lendecis.plot()"
   ]
  },
  {
   "cell_type": "code",
   "execution_count": 262,
   "metadata": {},
   "outputs": [
    {
     "data": {
      "text/plain": [
       "133    2\n",
       "152    2\n",
       "155    2\n",
       "158    2\n",
       "159    2\n",
       "161    4\n",
       "164    2\n",
       "165    2\n",
       "166    3\n",
       "167    4\n",
       "dtype: int64"
      ]
     },
     "execution_count": 262,
     "metadata": {},
     "output_type": "execute_result"
    }
   ],
   "source": [
    "lendecis[lendecis>1].iloc[:10]"
   ]
  },
  {
   "cell_type": "code",
   "execution_count": 263,
   "metadata": {
    "collapsed": true
   },
   "outputs": [],
   "source": [
    "dfdecis2=dfdecis.copy()"
   ]
  },
  {
   "cell_type": "code",
   "execution_count": 264,
   "metadata": {},
   "outputs": [],
   "source": [
    "dfdecis2.loc[133][1]=dfdecis2.loc[133][2]"
   ]
  },
  {
   "cell_type": "code",
   "execution_count": 265,
   "metadata": {
    "collapsed": true
   },
   "outputs": [],
   "source": [
    "def lftshftfll(x):\n",
    "    y=x.copy().shift(-1)\n",
    "    y.iloc[-1]=x.iloc[-1]\n",
    "    return y"
   ]
  },
  {
   "cell_type": "code",
   "execution_count": 266,
   "metadata": {},
   "outputs": [],
   "source": [
    "for j in np.arange(164,171+1):\n",
    "    dfdecis2.loc[j]=lftshftfll(dfdecis2.loc[j])"
   ]
  },
  {
   "cell_type": "code",
   "execution_count": 267,
   "metadata": {},
   "outputs": [
    {
     "data": {
      "text/plain": [
       "True"
      ]
     },
     "execution_count": 267,
     "metadata": {},
     "output_type": "execute_result"
    }
   ],
   "source": [
    "dfdecis.loc[170][2]==dfdecis2.loc[170][1]"
   ]
  },
  {
   "cell_type": "code",
   "execution_count": 276,
   "metadata": {},
   "outputs": [],
   "source": [
    "brk170=dfdecis2.loc[170][1].find('Votaram')"
   ]
  },
  {
   "cell_type": "code",
   "execution_count": 269,
   "metadata": {
    "collapsed": true
   },
   "outputs": [],
   "source": [
    "dfdecis2.loc[170][2]=dfdecis2.loc[170][1][brk170:]\n",
    "dfdecis2.loc[170][1]=dfdecis2.loc[170][1][:brk170]"
   ]
  },
  {
   "cell_type": "code",
   "execution_count": 319,
   "metadata": {},
   "outputs": [],
   "source": [
    "def delvote(x):\n",
    "    y=x.copy()\n",
    "    n=0\n",
    "    while len(y.dropna())==len(x.dropna()):\n",
    "        y=y.shift()\n",
    "        n=n+1\n",
    "    return y.shift(-n)"
   ]
  },
  {
   "cell_type": "code",
   "execution_count": 327,
   "metadata": {
    "collapsed": true
   },
   "outputs": [],
   "source": [
    "for j in np.arange(167,lstmeet+1):\n",
    "    dfdecis2.loc[j]=delvote(dfdecis2.loc[j])"
   ]
  },
  {
   "cell_type": "code",
   "execution_count": 332,
   "metadata": {
    "collapsed": true
   },
   "outputs": [],
   "source": [
    "def tjn(x):\n",
    "    y=x.copy().dropna().values\n",
    "    return \" \".join(y)"
   ]
  },
  {
   "cell_type": "code",
   "execution_count": 336,
   "metadata": {},
   "outputs": [],
   "source": [
    "cptx=[tjn(dfdecis2.loc[j]) for j in meetlist2003all]"
   ]
  },
  {
   "cell_type": "code",
   "execution_count": 339,
   "metadata": {},
   "outputs": [],
   "source": [
    "cptxlen=pd.Series([len(x) for x in cptx],index=meetlist2003all)"
   ]
  },
  {
   "cell_type": "code",
   "execution_count": 344,
   "metadata": {},
   "outputs": [
    {
     "data": {
      "text/plain": [
       "<matplotlib.text.Text at 0x1207b9eb8>"
      ]
     },
     "execution_count": 344,
     "metadata": {},
     "output_type": "execute_result"
    },
    {
     "data": {
      "image/png": "[encoded data removed]",
      "text/plain": [
       "<matplotlib.figure.Figure at 0x1207b32b0>"
      ]
     },
     "metadata": {},
     "output_type": "display_data"
    }
   ],
   "source": [
    "cptxlen.plot(figsize=(12,9),title='Wordcount for COPOM Statements (without votes)')\n",
    "plt.axhline(0,color='gray')\n",
    "plt.xlabel('Meeting')\n",
    "plt.ylabel('Words')"
   ]
  },
  {
   "cell_type": "code",
   "execution_count": 341,
   "metadata": {},
   "outputs": [
    {
     "data": {
      "text/html": [
       "<div>\n",
       "<style>\n",
       "    .dataframe thead tr:only-child th {\n",
       "        text-align: right;\n",
       "    }\n",
       "\n",
       "    .dataframe thead th {\n",
       "        text-align: left;\n",
       "    }\n",
       "\n",
       "    .dataframe tbody tr th {\n",
       "        vertical-align: top;\n",
       "    }\n",
       "</style>\n",
       "<table border=\"1\" class=\"dataframe\">\n",
       "  <thead>\n",
       "    <tr style=\"text-align: right;\">\n",
       "      <th></th>\n",
       "      <th>0</th>\n",
       "      <th>1</th>\n",
       "      <th>2</th>\n",
       "      <th>3</th>\n",
       "      <th>4</th>\n",
       "      <th>5</th>\n",
       "      <th>6</th>\n",
       "      <th>7</th>\n",
       "      <th>8</th>\n",
       "      <th>9</th>\n",
       "      <th>10</th>\n",
       "      <th>11</th>\n",
       "      <th>12</th>\n",
       "      <th>13</th>\n",
       "      <th>14</th>\n",
       "    </tr>\n",
       "  </thead>\n",
       "  <tbody>\n",
       "    <tr>\n",
       "      <th>198</th>\n",
       "      <td>\"O Copom decidiu, por unanimidade, manter a ta...</td>\n",
       "      <td>O Comitê reconhece os avanços na política de c...</td>\n",
       "      <td>NaN</td>\n",
       "      <td>NaN</td>\n",
       "      <td>NaN</td>\n",
       "      <td>NaN</td>\n",
       "      <td>NaN</td>\n",
       "      <td>NaN</td>\n",
       "      <td>NaN</td>\n",
       "      <td>NaN</td>\n",
       "      <td>NaN</td>\n",
       "      <td>NaN</td>\n",
       "      <td>NaN</td>\n",
       "      <td>NaN</td>\n",
       "      <td>NaN</td>\n",
       "    </tr>\n",
       "    <tr>\n",
       "      <th>199</th>\n",
       "      <td>\"O Copom decidiu, por unanimidade, manter a ta...</td>\n",
       "      <td>O Comitê reconhece os avanços na política de c...</td>\n",
       "      <td>NaN</td>\n",
       "      <td>NaN</td>\n",
       "      <td>NaN</td>\n",
       "      <td>NaN</td>\n",
       "      <td>NaN</td>\n",
       "      <td>NaN</td>\n",
       "      <td>NaN</td>\n",
       "      <td>NaN</td>\n",
       "      <td>NaN</td>\n",
       "      <td>NaN</td>\n",
       "      <td>NaN</td>\n",
       "      <td>NaN</td>\n",
       "      <td>NaN</td>\n",
       "    </tr>\n",
       "    <tr>\n",
       "      <th>200</th>\n",
       "      <td>\"O Copom decidiu, por unanimidade, manter a ta...</td>\n",
       "      <td>O cenário básico com que o Comitê trabalha pod...</td>\n",
       "      <td>O conjunto dos indicadores divulgados desde a ...</td>\n",
       "      <td>No âmbito externo, o cenário permanece desafia...</td>\n",
       "      <td>As expectativas de inflação apuradas pela pesq...</td>\n",
       "      <td>As projeções condicionais do Copom para a infl...</td>\n",
       "      <td>O Comitê identifica os seguintes riscos domést...</td>\n",
       "      <td>Por um lado, (i) a inflação acima do esperado ...</td>\n",
       "      <td>Por outro lado, (iv) os ajustes na economia po...</td>\n",
       "      <td>Tomados em conjunto, o cenário básico e o atua...</td>\n",
       "      <td>NaN</td>\n",
       "      <td>NaN</td>\n",
       "      <td>NaN</td>\n",
       "      <td>NaN</td>\n",
       "      <td>NaN</td>\n",
       "    </tr>\n",
       "    <tr>\n",
       "      <th>201</th>\n",
       "      <td>\"O Copom decidiu, por unanimidade, manter a ta...</td>\n",
       "      <td>O cenário básico com que o Comitê trabalha pod...</td>\n",
       "      <td>O conjunto dos indicadores divulgados desde a ...</td>\n",
       "      <td>No âmbito externo, o cenário ainda apresenta i...</td>\n",
       "      <td>A inflação corrente segue pressionada, em part...</td>\n",
       "      <td>As expectativas de inflação apuradas pela pesq...</td>\n",
       "      <td>As projeções do Copom para a inflação de 2016 ...</td>\n",
       "      <td>O Comitê identifica os seguintes riscos domést...</td>\n",
       "      <td>Por um lado, (i) a inflação acima do esperado ...</td>\n",
       "      <td>Por outro lado, (iv) índices de preços no atac...</td>\n",
       "      <td>Considerando o cenário básico, o balanço de ri...</td>\n",
       "      <td>NaN</td>\n",
       "      <td>NaN</td>\n",
       "      <td>NaN</td>\n",
       "      <td>NaN</td>\n",
       "    </tr>\n",
       "    <tr>\n",
       "      <th>202</th>\n",
       "      <td>O Copom decidiu, por unanimidade, reduzir a ta...</td>\n",
       "      <td>O cenário básico do Copom pode ser resumido pe...</td>\n",
       "      <td>O conjunto dos indicadores divulgados desde a ...</td>\n",
       "      <td>No âmbito externo, o cenário ainda apresenta i...</td>\n",
       "      <td>A inflação recente mostrou-se mais favorável q...</td>\n",
       "      <td>As expectativas de inflação apuradas pela pesq...</td>\n",
       "      <td>As projeções do Copom para a inflação de 2016 ...</td>\n",
       "      <td>O Comitê identifica os seguintes riscos domést...</td>\n",
       "      <td>Por um lado, (i) o processo de aprovação e imp...</td>\n",
       "      <td>Por outro lado, (iv) a inflação mostrou-se mai...</td>\n",
       "      <td>Considerando o cenário básico, o balanço de ri...</td>\n",
       "      <td>A magnitude da flexibilização monetária e uma ...</td>\n",
       "      <td>NaN</td>\n",
       "      <td>NaN</td>\n",
       "      <td>NaN</td>\n",
       "    </tr>\n",
       "    <tr>\n",
       "      <th>203</th>\n",
       "      <td>O Copom decidiu, por unanimidade, reduzir a ta...</td>\n",
       "      <td>A atualização do cenário básico do Copom pode ...</td>\n",
       "      <td>O conjunto dos indicadores divulgados desde a ...</td>\n",
       "      <td>No âmbito externo, o cenário apresenta-se espe...</td>\n",
       "      <td>A inflação recente mostrou-se mais favorável q...</td>\n",
       "      <td>As expectativas de inflação apuradas pela pesq...</td>\n",
       "      <td>As projeções condicionais do Copom oscilaram e...</td>\n",
       "      <td>Os passos no processo de aprovação das reforma...</td>\n",
       "      <td>O Comitê ressalta os seguintes riscos para o c...</td>\n",
       "      <td>Por um lado, (i) o possível fim do interregno ...</td>\n",
       "      <td>Por outro lado, (iv) a atividade econômica mai...</td>\n",
       "      <td>Considerando o cenário básico, o balanço de ri...</td>\n",
       "      <td>A magnitude da flexibilização monetária e a in...</td>\n",
       "      <td>NaN</td>\n",
       "      <td>NaN</td>\n",
       "    </tr>\n",
       "    <tr>\n",
       "      <th>204</th>\n",
       "      <td>O Copom decidiu, por unanimidade, reduzir a ta...</td>\n",
       "      <td>A atualização do cenário básico do Copom pode ...</td>\n",
       "      <td>O conjunto dos indicadores sugere atividade ec...</td>\n",
       "      <td>No âmbito externo, o cenário ainda é bastante ...</td>\n",
       "      <td>A inflação recente continuou mais favorável qu...</td>\n",
       "      <td>A inflação acumulada no ano passado alcançou 6...</td>\n",
       "      <td>As expectativas de inflação apuradas pela pesq...</td>\n",
       "      <td>As projeções condicionais do Copom também recu...</td>\n",
       "      <td>Os passos no processo de encaminhamento e apro...</td>\n",
       "      <td>O Comitê ressalta os seguintes riscos para o c...</td>\n",
       "      <td>Por um lado, (i) o alto grau de incerteza no c...</td>\n",
       "      <td>Por outro lado, (iv) a atividade econômica mai...</td>\n",
       "      <td>Considerando o cenário básico, o balanço de ri...</td>\n",
       "      <td>O Copom avaliou a alternativa de reduzir a tax...</td>\n",
       "      <td>NaN</td>\n",
       "    </tr>\n",
       "    <tr>\n",
       "      <th>205</th>\n",
       "      <td>O Copom decidiu, por unanimidade, reduzir a ta...</td>\n",
       "      <td>A atualização do cenário básico do Copom pode ...</td>\n",
       "      <td>O conjunto dos indicadores de atividade econôm...</td>\n",
       "      <td>No âmbito externo, o cenário ainda é bastante ...</td>\n",
       "      <td>O comportamento da inflação permanece favoráve...</td>\n",
       "      <td>As expectativas de inflação apuradas pela pesq...</td>\n",
       "      <td>No cenário de mercado, as projeções do Copom r...</td>\n",
       "      <td>O Comitê ressalta que seu cenário básico para ...</td>\n",
       "      <td>O Comitê destaca a importância da aprovação e ...</td>\n",
       "      <td>Considerando o cenário básico, o balanço de ri...</td>\n",
       "      <td>O Copom entende que a extensão do ciclo de fle...</td>\n",
       "      <td>O Copom ressalta que uma possível intensificaç...</td>\n",
       "      <td>NaN</td>\n",
       "      <td>NaN</td>\n",
       "      <td>NaN</td>\n",
       "    </tr>\n",
       "    <tr>\n",
       "      <th>206</th>\n",
       "      <td>O Copom decidiu, por unanimidade, reduzir a ta...</td>\n",
       "      <td>A atualização do cenário básico do Copom pode ...</td>\n",
       "      <td>O conjunto dos indicadores de atividade econôm...</td>\n",
       "      <td>No âmbito externo, o cenário ainda é bastante ...</td>\n",
       "      <td>O comportamento da inflação permanece favoráve...</td>\n",
       "      <td>As expectativas de inflação apuradas pela pesq...</td>\n",
       "      <td>No cenário com trajetórias para as taxas de ju...</td>\n",
       "      <td>O Comitê ressalta que seu cenário básico para ...</td>\n",
       "      <td>Considerando o cenário básico, o balanço de ri...</td>\n",
       "      <td>O Copom entende que a extensão do ciclo de fle...</td>\n",
       "      <td>O Copom ressalta que o ritmo de flexibilização...</td>\n",
       "      <td>NaN</td>\n",
       "      <td>NaN</td>\n",
       "      <td>NaN</td>\n",
       "      <td>NaN</td>\n",
       "    </tr>\n",
       "    <tr>\n",
       "      <th>207</th>\n",
       "      <td>O Copom decidiu, por unanimidade, reduzir a ta...</td>\n",
       "      <td>A atualização do cenário básico do Copom pode ...</td>\n",
       "      <td>O conjunto dos indicadores de atividade econôm...</td>\n",
       "      <td>Até o momento, o cenário externo tem se mostra...</td>\n",
       "      <td>O comportamento da inflação permanece favoráve...</td>\n",
       "      <td>As expectativas de inflação apuradas pela pesq...</td>\n",
       "      <td>No cenário com trajetórias para as taxas de ju...</td>\n",
       "      <td>Ressalta-se que, neste momento, as projeções c...</td>\n",
       "      <td>O Comitê entende como fator de risco principal...</td>\n",
       "      <td>Considerando o cenário básico, o balanço de ri...</td>\n",
       "      <td>O Copom ressalta que a extensão do ciclo de fl...</td>\n",
       "      <td>Em função do cenário básico e do atual balanço...</td>\n",
       "      <td>NaN</td>\n",
       "      <td>NaN</td>\n",
       "      <td>NaN</td>\n",
       "    </tr>\n",
       "  </tbody>\n",
       "</table>\n",
       "</div>"
      ],
      "text/plain": [
       "                                                    0   \\\n",
       "198  \"O Copom decidiu, por unanimidade, manter a ta...   \n",
       "199  \"O Copom decidiu, por unanimidade, manter a ta...   \n",
       "200  \"O Copom decidiu, por unanimidade, manter a ta...   \n",
       "201  \"O Copom decidiu, por unanimidade, manter a ta...   \n",
       "202  O Copom decidiu, por unanimidade, reduzir a ta...   \n",
       "203  O Copom decidiu, por unanimidade, reduzir a ta...   \n",
       "204  O Copom decidiu, por unanimidade, reduzir a ta...   \n",
       "205  O Copom decidiu, por unanimidade, reduzir a ta...   \n",
       "206  O Copom decidiu, por unanimidade, reduzir a ta...   \n",
       "207  O Copom decidiu, por unanimidade, reduzir a ta...   \n",
       "\n",
       "                                                    1   \\\n",
       "198  O Comitê reconhece os avanços na política de c...   \n",
       "199  O Comitê reconhece os avanços na política de c...   \n",
       "200  O cenário básico com que o Comitê trabalha pod...   \n",
       "201  O cenário básico com que o Comitê trabalha pod...   \n",
       "202  O cenário básico do Copom pode ser resumido pe...   \n",
       "203  A atualização do cenário básico do Copom pode ...   \n",
       "204  A atualização do cenário básico do Copom pode ...   \n",
       "205  A atualização do cenário básico do Copom pode ...   \n",
       "206  A atualização do cenário básico do Copom pode ...   \n",
       "207  A atualização do cenário básico do Copom pode ...   \n",
       "\n",
       "                                                    2   \\\n",
       "198                                                NaN   \n",
       "199                                                NaN   \n",
       "200  O conjunto dos indicadores divulgados desde a ...   \n",
       "201  O conjunto dos indicadores divulgados desde a ...   \n",
       "202  O conjunto dos indicadores divulgados desde a ...   \n",
       "203  O conjunto dos indicadores divulgados desde a ...   \n",
       "204  O conjunto dos indicadores sugere atividade ec...   \n",
       "205  O conjunto dos indicadores de atividade econôm...   \n",
       "206  O conjunto dos indicadores de atividade econôm...   \n",
       "207  O conjunto dos indicadores de atividade econôm...   \n",
       "\n",
       "                                                    3   \\\n",
       "198                                                NaN   \n",
       "199                                                NaN   \n",
       "200  No âmbito externo, o cenário permanece desafia...   \n",
       "201  No âmbito externo, o cenário ainda apresenta i...   \n",
       "202  No âmbito externo, o cenário ainda apresenta i...   \n",
       "203  No âmbito externo, o cenário apresenta-se espe...   \n",
       "204  No âmbito externo, o cenário ainda é bastante ...   \n",
       "205  No âmbito externo, o cenário ainda é bastante ...   \n",
       "206  No âmbito externo, o cenário ainda é bastante ...   \n",
       "207  Até o momento, o cenário externo tem se mostra...   \n",
       "\n",
       "                                                    4   \\\n",
       "198                                                NaN   \n",
       "199                                                NaN   \n",
       "200  As expectativas de inflação apuradas pela pesq...   \n",
       "201  A inflação corrente segue pressionada, em part...   \n",
       "202  A inflação recente mostrou-se mais favorável q...   \n",
       "203  A inflação recente mostrou-se mais favorável q...   \n",
       "204  A inflação recente continuou mais favorável qu...   \n",
       "205  O comportamento da inflação permanece favoráve...   \n",
       "206  O comportamento da inflação permanece favoráve...   \n",
       "207  O comportamento da inflação permanece favoráve...   \n",
       "\n",
       "                                                    5   \\\n",
       "198                                                NaN   \n",
       "199                                                NaN   \n",
       "200  As projeções condicionais do Copom para a infl...   \n",
       "201  As expectativas de inflação apuradas pela pesq...   \n",
       "202  As expectativas de inflação apuradas pela pesq...   \n",
       "203  As expectativas de inflação apuradas pela pesq...   \n",
       "204  A inflação acumulada no ano passado alcançou 6...   \n",
       "205  As expectativas de inflação apuradas pela pesq...   \n",
       "206  As expectativas de inflação apuradas pela pesq...   \n",
       "207  As expectativas de inflação apuradas pela pesq...   \n",
       "\n",
       "                                                    6   \\\n",
       "198                                                NaN   \n",
       "199                                                NaN   \n",
       "200  O Comitê identifica os seguintes riscos domést...   \n",
       "201  As projeções do Copom para a inflação de 2016 ...   \n",
       "202  As projeções do Copom para a inflação de 2016 ...   \n",
       "203  As projeções condicionais do Copom oscilaram e...   \n",
       "204  As expectativas de inflação apuradas pela pesq...   \n",
       "205  No cenário de mercado, as projeções do Copom r...   \n",
       "206  No cenário com trajetórias para as taxas de ju...   \n",
       "207  No cenário com trajetórias para as taxas de ju...   \n",
       "\n",
       "                                                    7   \\\n",
       "198                                                NaN   \n",
       "199                                                NaN   \n",
       "200  Por um lado, (i) a inflação acima do esperado ...   \n",
       "201  O Comitê identifica os seguintes riscos domést...   \n",
       "202  O Comitê identifica os seguintes riscos domést...   \n",
       "203  Os passos no processo de aprovação das reforma...   \n",
       "204  As projeções condicionais do Copom também recu...   \n",
       "205  O Comitê ressalta que seu cenário básico para ...   \n",
       "206  O Comitê ressalta que seu cenário básico para ...   \n",
       "207  Ressalta-se que, neste momento, as projeções c...   \n",
       "\n",
       "                                                    8   \\\n",
       "198                                                NaN   \n",
       "199                                                NaN   \n",
       "200  Por outro lado, (iv) os ajustes na economia po...   \n",
       "201  Por um lado, (i) a inflação acima do esperado ...   \n",
       "202  Por um lado, (i) o processo de aprovação e imp...   \n",
       "203  O Comitê ressalta os seguintes riscos para o c...   \n",
       "204  Os passos no processo de encaminhamento e apro...   \n",
       "205  O Comitê destaca a importância da aprovação e ...   \n",
       "206  Considerando o cenário básico, o balanço de ri...   \n",
       "207  O Comitê entende como fator de risco principal...   \n",
       "\n",
       "                                                    9   \\\n",
       "198                                                NaN   \n",
       "199                                                NaN   \n",
       "200  Tomados em conjunto, o cenário básico e o atua...   \n",
       "201  Por outro lado, (iv) índices de preços no atac...   \n",
       "202  Por outro lado, (iv) a inflação mostrou-se mai...   \n",
       "203  Por um lado, (i) o possível fim do interregno ...   \n",
       "204  O Comitê ressalta os seguintes riscos para o c...   \n",
       "205  Considerando o cenário básico, o balanço de ri...   \n",
       "206  O Copom entende que a extensão do ciclo de fle...   \n",
       "207  Considerando o cenário básico, o balanço de ri...   \n",
       "\n",
       "                                                    10  \\\n",
       "198                                                NaN   \n",
       "199                                                NaN   \n",
       "200                                                NaN   \n",
       "201  Considerando o cenário básico, o balanço de ri...   \n",
       "202  Considerando o cenário básico, o balanço de ri...   \n",
       "203  Por outro lado, (iv) a atividade econômica mai...   \n",
       "204  Por um lado, (i) o alto grau de incerteza no c...   \n",
       "205  O Copom entende que a extensão do ciclo de fle...   \n",
       "206  O Copom ressalta que o ritmo de flexibilização...   \n",
       "207  O Copom ressalta que a extensão do ciclo de fl...   \n",
       "\n",
       "                                                    11  \\\n",
       "198                                                NaN   \n",
       "199                                                NaN   \n",
       "200                                                NaN   \n",
       "201                                                NaN   \n",
       "202  A magnitude da flexibilização monetária e uma ...   \n",
       "203  Considerando o cenário básico, o balanço de ri...   \n",
       "204  Por outro lado, (iv) a atividade econômica mai...   \n",
       "205  O Copom ressalta que uma possível intensificaç...   \n",
       "206                                                NaN   \n",
       "207  Em função do cenário básico e do atual balanço...   \n",
       "\n",
       "                                                    12  \\\n",
       "198                                                NaN   \n",
       "199                                                NaN   \n",
       "200                                                NaN   \n",
       "201                                                NaN   \n",
       "202                                                NaN   \n",
       "203  A magnitude da flexibilização monetária e a in...   \n",
       "204  Considerando o cenário básico, o balanço de ri...   \n",
       "205                                                NaN   \n",
       "206                                                NaN   \n",
       "207                                                NaN   \n",
       "\n",
       "                                                    13   14  \n",
       "198                                                NaN  NaN  \n",
       "199                                                NaN  NaN  \n",
       "200                                                NaN  NaN  \n",
       "201                                                NaN  NaN  \n",
       "202                                                NaN  NaN  \n",
       "203                                                NaN  NaN  \n",
       "204  O Copom avaliou a alternativa de reduzir a tax...  NaN  \n",
       "205                                                NaN  NaN  \n",
       "206                                                NaN  NaN  \n",
       "207                                                NaN  NaN  "
      ]
     },
     "execution_count": 341,
     "metadata": {},
     "output_type": "execute_result"
    }
   ],
   "source": [
    "dfdecis2.tail(10)"
   ]
  }
 ],
 "metadata": {
  "kernelspec": {
   "display_name": "Python 3",
   "language": "python",
   "name": "python3"
  },
  "language_info": {
   "codemirror_mode": {
    "name": "ipython",
    "version": 3
   },
   "file_extension": ".py",
   "mimetype": "text/x-python",
   "name": "python",
   "nbconvert_exporter": "python",
   "pygments_lexer": "ipython3",
   "version": "3.6.1"
  }
 },
 "nbformat": 4,
 "nbformat_minor": 2
}
